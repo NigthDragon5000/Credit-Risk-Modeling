{
 "cells": [
  {
   "cell_type": "code",
   "execution_count": null,
   "metadata": {
    "scrolled": false
   },
   "outputs": [],
   "source": [
    "import pandas as pd\n",
    "import pyodbc\n",
    "import statsmodels.api as sm\n",
    "#from scipy import stats\n",
    "#import numpy as np\n",
    "import gc\n",
    "import os\n",
    "from woe5 import woe\n",
    "from claudia import ks,gini\n",
    "import pandas as pd\n",
    "import pyodbc\n",
    "import statsmodels.api as sm\n",
    "#from scipy import stats\n",
    "#import numpy as np"
   ]
  },
  {
   "cell_type": "markdown",
   "metadata": {},
   "source": [
    "# Importación de la tabla en Chunks"
   ]
  },
  {
   "cell_type": "code",
   "execution_count": null,
   "metadata": {
    "scrolled": false
   },
   "outputs": [],
   "source": [
    "chunkTemp = []\n",
    "queryTemp = []\n",
    "query = pd.DataFrame()\n",
    "\n",
    "for chunk in pd.read_csv('ori3.csv', header=0, chunksize=10000, iterator=True, low_memory=False,encoding='latin'):\n",
    "\n",
    "    #REPLACING BLANK SPACES AT COLUMNS' NAMES FOR SQL OPTIMIZATION\n",
    "    chunk = chunk.rename(columns = {c: c.replace(' ', '') for c in chunk.columns})\n",
    "\n",
    "    #YOU CAN EITHER: \n",
    "    #1)BUFFER THE CHUNKS IN ORDER TO LOAD YOUR WHOLE DATASET \n",
    "    chunkTemp.append(chunk)\n",
    "\n",
    "#!  NEVER DO pd.concat OR pd.DataFrame() INSIDE A LOOP\n",
    "print(\"Database: CONCATENATING CHUNKS INTO A SINGLE DATAFRAME\")\n",
    "chunk = pd.concat(chunkTemp)\n",
    "print(\"Database: LOADED\")\n",
    "\n"
   ]
  },
  {
   "cell_type": "code",
   "execution_count": null,
   "metadata": {
    "scrolled": false
   },
   "outputs": [],
   "source": [
    "len(df)\n"
   ]
  },
  {
   "cell_type": "code",
   "execution_count": null,
   "metadata": {
    "scrolled": false
   },
   "outputs": [],
   "source": [
    "## Si usaramos SQl\n",
    "#f=\"SELECT  * FROM bdrie.dbo.ori_base \"\n",
    "#sql_con = pyodbc.connect('driver={SQL Server};SERVER=OF00SRVBDH;Trusted_Connection=True;DATABASE=MIS1')\n",
    "#base  = pd.read_sql(f, sql_con)"
   ]
  },
  {
   "cell_type": "code",
   "execution_count": null,
   "metadata": {
    "scrolled": false
   },
   "outputs": [],
   "source": [
    "chunk.columns"
   ]
  },
  {
   "cell_type": "markdown",
   "metadata": {},
   "source": [
    "# Usamos filtros requeridos"
   ]
  },
  {
   "cell_type": "code",
   "execution_count": null,
   "metadata": {
    "scrolled": false
   },
   "outputs": [],
   "source": [
    "df = chunk[(chunk['prioridad_solicitud'] == 1) & (chunk['n_rcc'] >= 3) & (chunk['atr0_m'] <=8)]\n",
    "len(df)"
   ]
  },
  {
   "cell_type": "code",
   "execution_count": null,
   "metadata": {
    "scrolled": false
   },
   "outputs": [],
   "source": [
    "df.id.unique()"
   ]
  },
  {
   "cell_type": "code",
   "execution_count": null,
   "metadata": {
    "scrolled": false
   },
   "outputs": [],
   "source": [
    "base = df[df['id']!= 2]\n",
    "print(len(base))\n",
    "print(base.id.unique())"
   ]
  },
  {
   "cell_type": "markdown",
   "metadata": {},
   "source": [
    "# Division Entrenamiento y Test"
   ]
  },
  {
   "cell_type": "code",
   "execution_count": null,
   "metadata": {
    "scrolled": false
   },
   "outputs": [],
   "source": [
    "from sklearn.model_selection import train_test_split\n",
    "train,test=train_test_split(base,test_size=0.3)\n",
    "print(len(train))\n",
    "print(len(test))"
   ]
  },
  {
   "cell_type": "markdown",
   "metadata": {},
   "source": [
    "# Variables "
   ]
  },
  {
   "cell_type": "code",
   "execution_count": null,
   "metadata": {
    "scrolled": false
   },
   "outputs": [],
   "source": [
    "Variable Capacidad de pago contingente"
   ]
  },
  {
   "cell_type": "code",
   "execution_count": null,
   "metadata": {
    "scrolled": false
   },
   "outputs": [],
   "source": [
    "w=woe([float('-Inf'),0.052934,0.150451,float('Inf')])\n",
    "w.fit(train['END_capacidad_pago_contingente_corr'],train['id'])\n",
    "#w.optimize(max_nodes=5,samples=round(0.05*len(train)))\n",
    "print(w.stat)\n",
    "print(w._checkMonotonic())\n",
    "print(sum(w.stat['bad'])/(sum(w.stat['bad'])+sum(w.stat['good'])))\n",
    "print(sum(w.iv))\n",
    "w.plot()\n"
   ]
  },
  {
   "cell_type": "markdown",
   "metadata": {},
   "source": [
    "Variable Numero de Decrementos de Saldo"
   ]
  },
  {
   "cell_type": "code",
   "execution_count": null,
   "metadata": {
    "scrolled": false
   },
   "outputs": [],
   "source": [
    "w=woe()\n",
    "w.fit(train['END_NUM_DECREM_SALDO_U24M'],train['id'])\n",
    "w.optimize(max_nodes=4,samples=round(0.05*len(train)))\n",
    "print(w.stat)\n",
    "print(w._checkMonotonic())\n",
    "print(sum(w.stat['bad'])/(sum(w.stat['bad'])+sum(w.stat['good'])))\n",
    "w.plot()\n"
   ]
  },
  {
   "cell_type": "markdown",
   "metadata": {},
   "source": [
    "# Calculo masivo de WOEs"
   ]
  },
  {
   "cell_type": "code",
   "execution_count": null,
   "metadata": {
    "scrolled": false
   },
   "outputs": [],
   "source": [
    "cuadro=w.massive(train,'id',deploy=True,train=train,test=test)\n",
    "ivs=cuadro[0]"
   ]
  },
  {
   "cell_type": "code",
   "execution_count": null,
   "metadata": {
    "scrolled": false
   },
   "outputs": [],
   "source": [
    "pd.options.display.max_rows = 999\n",
    "View=ivs[ivs['Names'].str.contains(\"END_\")]\n",
    "View.sort_values(by='IV', ascending=False)\n"
   ]
  },
  {
   "cell_type": "markdown",
   "metadata": {},
   "source": [
    "# Completitud"
   ]
  },
  {
   "cell_type": "code",
   "execution_count": null,
   "metadata": {
    "scrolled": false
   },
   "outputs": [],
   "source": [
    "#x_train.columns\n",
    "lista=[]\n",
    "for names in df.columns:\n",
    "    lista.append([names,sum(df[names].isnull())/len(df)])\n",
    "lista"
   ]
  },
  {
   "cell_type": "code",
   "execution_count": null,
   "metadata": {
    "scrolled": false
   },
   "outputs": [],
   "source": [
    "listaa=pd.DataFrame(lista)\n",
    "listaa.columns=['Name','per_NA']"
   ]
  },
  {
   "cell_type": "code",
   "execution_count": null,
   "metadata": {
    "scrolled": true
   },
   "outputs": [],
   "source": [
    "listaa.sort_values(by='per_NA', ascending=False)"
   ]
  },
  {
   "cell_type": "code",
   "execution_count": null,
   "metadata": {
    "scrolled": false
   },
   "outputs": [],
   "source": [
    "len(x_train.columns) #Total de variables "
   ]
  },
  {
   "cell_type": "markdown",
   "metadata": {},
   "source": [
    "# Guardando con pickle"
   ]
  },
  {
   "cell_type": "code",
   "execution_count": null,
   "metadata": {
    "scrolled": false
   },
   "outputs": [],
   "source": [
    "import pickle\n",
    "pickle.dump(cuadro, open('cuadro_ivs.pkl','wb'))\n",
    "pickle.dump(train, open('ori3_train.pkl','wb'))\n",
    "pickle.dump(test, open('ori3_test.pkl','wb'))"
   ]
  },
  {
   "cell_type": "markdown",
   "metadata": {},
   "source": [
    "# Revisando variables Especificas"
   ]
  },
  {
   "cell_type": "code",
   "execution_count": null,
   "metadata": {
    "scrolled": false
   },
   "outputs": [],
   "source": [
    "cuadros=cuadro[1]"
   ]
  },
  {
   "cell_type": "code",
   "execution_count": null,
   "metadata": {
    "scrolled": false
   },
   "outputs": [],
   "source": [
    "##Chequeando tablas de Woes\n",
    "#133 es capacidad de pago #134 es leveragetabla=cuadros[133] \n",
    "print(tabla)\n",
    "print('     ')\n",
    "print('El iv es: ',sum(tabla['iv']))\n",
    "#print(sum(tabla['bad'])/(sum(tabla['bad'])+sum(tabla['good'])))"
   ]
  },
  {
   "cell_type": "code",
   "execution_count": null,
   "metadata": {
    "scrolled": false
   },
   "outputs": [],
   "source": [
    "#Reconstruyendo la variables\n",
    "w=woe([float('-Inf'),0.052934,float('Inf')])\n",
    "w.fit(train['END_capacidad_pago_contingente_corr'],train['id'])\n",
    "#w.optimize(max_nodes=5,samples=round(0.05*len(train)))\n",
    "print(w.stat)\n",
    "print(w._checkMonotonic())\n",
    "print(sum(w.stat['bad'])/(sum(w.stat['bad'])+sum(w.stat['good'])))\n",
    "w.plot()\n",
    "#train[str('END_capacidad_pago_contingente_corr'+'_binned')]=w.deploy(train)\n",
    "#test[str('END_capacidad_pago_contingente_corr'+'_binned')]=w.deploy(test) "
   ]
  },
  {
   "cell_type": "code",
   "execution_count": null,
   "metadata": {
    "scrolled": false
   },
   "outputs": [],
   "source": [
    "##Chequeando tablas de Woes\n",
    "#133 es capacidad de pago\n",
    "tabla=cuadros[134] \n",
    "print(tabla)\n",
    "print('     ')\n",
    "print('El iv es: ',sum(tabla['iv']))\n",
    "#print(sum(tabla['bad'])/(sum(tabla['bad'])+sum(tabla['good'])))"
   ]
  },
  {
   "cell_type": "markdown",
   "metadata": {},
   "source": [
    "# Agregando variables adicionales"
   ]
  },
  {
   "cell_type": "code",
   "execution_count": null,
   "metadata": {
    "scrolled": false
   },
   "outputs": [],
   "source": [
    "f=\"SELECT  * FROM bdrie.dbo.ori_base_f2 \"\n",
    "sql_con = pyodbc.connect('driver={SQL Server};SERVER=OF00SRVBDH;Trusted_Connection=True;DATABASE=MIS1')\n",
    "chunk2  = pd.read_sql(f, sql_con)\n",
    "chunk2.head()"
   ]
  },
  {
   "cell_type": "code",
   "execution_count": null,
   "metadata": {
    "scrolled": false
   },
   "outputs": [],
   "source": [
    "chunk2.rename(columns={'ccodsol': 'cCodSol'},inplace=True)\n",
    "chunk2.columns"
   ]
  },
  {
   "cell_type": "code",
   "execution_count": null,
   "metadata": {
    "scrolled": false
   },
   "outputs": [],
   "source": [
    "chunk2['cCodSol']=chunk2['cCodSol'].astype(float)"
   ]
  },
  {
   "cell_type": "code",
   "execution_count": null,
   "metadata": {
    "scrolled": false
   },
   "outputs": [],
   "source": [
    "train=train.merge(chunk2[['cCodSol','END_PROM_PU_TC_U12M_2','END_ULTIMO_SOW_2']], how='left',on='cCodSol')\n",
    "test=test.merge(chunk2[['cCodSol','END_PROM_PU_TC_U12M_2','END_ULTIMO_SOW_2']], how='left',on='cCodSol')\n",
    "base=base.merge(chunk2[['cCodSol','END_PROM_PU_TC_U12M_2','END_ULTIMO_SOW_2']], how='left',on='cCodSol')\n",
    "train.head()"
   ]
  },
  {
   "cell_type": "code",
   "execution_count": null,
   "metadata": {
    "scrolled": false
   },
   "outputs": [],
   "source": [
    "w=woe()\n",
    "w.fit(train['END_ULTIMO_SOW_2'],train['id'])\n",
    "w.optimize(max_nodes=2,samples=round(0.05*len(train)))\n",
    "print(w.stat)\n",
    "tabla_sow=w.stat\n",
    "#print(w.stat)\n",
    "#print(w._checkMonotonic())\n",
    "#print(sum(w.stat['bad'])/(sum(w.stat['bad'])+sum(w.stat['good'])))\n",
    "#print(sum(w.stat['iv']))\n",
    "w.plot()"
   ]
  },
  {
   "cell_type": "code",
   "execution_count": null,
   "metadata": {
    "scrolled": false
   },
   "outputs": [],
   "source": [
    "w=woe()\n",
    "w.fit(train['END_PROM_PU_TC_U12M_2'],train['id'])\n",
    "w.optimize(max_nodes=2,samples=round(0.05*len(train)))\n",
    "print(w.stat)\n",
    "print(w._checkMonotonic())\n",
    "print(sum(w.stat['bad'])/(sum(w.stat['bad'])+sum(w.stat['good'])))\n",
    "print(sum(w.stat['iv']))\n",
    "w.plot()"
   ]
  },
  {
   "cell_type": "code",
   "execution_count": null,
   "metadata": {
    "scrolled": false
   },
   "outputs": [],
   "source": [
    "train[str('END_PROM_PU_TC_U12M_NA'+'_binned')]=w.deploy(train)\n",
    "test[str('END_PROM_PU_TC_U12M_NA'+'_binned')]=w.deploy(test) \n",
    "base[str('END_PROM_PU_TC_U12M_NA'+'_binned')]=w.deploy(test) \n"
   ]
  },
  {
   "cell_type": "markdown",
   "metadata": {},
   "source": [
    "# Agregando capacidad Corregida"
   ]
  },
  {
   "cell_type": "code",
   "execution_count": null,
   "metadata": {
    "scrolled": false
   },
   "outputs": [],
   "source": [
    "f=\"SELECT  cCodSol,capacidad_pago_contingente_corr as  END_CAPACIDAD_PAGO_CONTINGENTE_CORR_2,id FROM bdrie.dbo.ori_base_f \"\n",
    "sql_con = pyodbc.connect('driver={SQL Server};SERVER=OF00SRVBDH;Trusted_Connection=True;DATABASE=MIS1')\n",
    "chunk3  = pd.read_sql(f, sql_con)\n",
    "chunk3.head()"
   ]
  },
  {
   "cell_type": "code",
   "execution_count": null,
   "metadata": {
    "scrolled": false
   },
   "outputs": [],
   "source": [
    "chunk4 = chunk3[chunk3['id']!=2]"
   ]
  },
  {
   "cell_type": "code",
   "execution_count": null,
   "metadata": {
    "scrolled": false
   },
   "outputs": [],
   "source": [
    "w=woe()\n",
    "w.fit(chunk4['END_CAPACIDAD_PAGO_CONTINGENTE_CORR_2'],chunk4['id'])\n",
    "w.optimize(max_nodes=2,samples=round(0.05*len(train)))\n",
    "print(w.stat)\n",
    "print(w._checkMonotonic())\n",
    "print(sum(w.stat['bad'])/(sum(w.stat['bad'])+sum(w.stat['good'])))\n",
    "print(sum(w.stat['iv']))\n",
    "w.plot()\n"
   ]
  },
  {
   "cell_type": "code",
   "execution_count": null,
   "metadata": {
    "scrolled": false
   },
   "outputs": [],
   "source": [
    "chunk3['cCodSol']=chunk3['cCodSol'].astype(float)"
   ]
  },
  {
   "cell_type": "code",
   "execution_count": null,
   "metadata": {
    "scrolled": false
   },
   "outputs": [],
   "source": [
    "train.drop('END_CAPACIDAD_PAGO_CONTINGENTE_CORR_2',axis=1,inplace=True)\n",
    "test.drop('END_CAPACIDAD_PAGO_CONTINGENTE_CORR_2',axis=1,inplace=True)\n",
    "df.drop('END_CAPACIDAD_PAGO_CONTINGENTE_CORR_2',axis=1,inplace=True)"
   ]
  },
  {
   "cell_type": "code",
   "execution_count": null,
   "metadata": {
    "scrolled": false
   },
   "outputs": [],
   "source": [
    "train=train.merge(chunk3[['cCodSol','END_CAPACIDAD_PAGO_CONTINGENTE_CORR_2']], how='left',on='cCodSol')\n",
    "test=test.merge(chunk3[['cCodSol','END_CAPACIDAD_PAGO_CONTINGENTE_CORR_2']], how='left',on='cCodSol')\n",
    "df=df.merge(chunk3[['cCodSol','END_CAPACIDAD_PAGO_CONTINGENTE_CORR_2']], how='left',on='cCodSol')"
   ]
  },
  {
   "cell_type": "code",
   "execution_count": null,
   "metadata": {
    "scrolled": false
   },
   "outputs": [],
   "source": [
    "train['END_CAPACIDAD_PAGO_CONTINGENTE_CORR_2'].head()"
   ]
  },
  {
   "cell_type": "markdown",
   "metadata": {},
   "source": [
    "# Corrigiendo Variable"
   ]
  },
  {
   "cell_type": "code",
   "execution_count": null,
   "metadata": {
    "scrolled": false
   },
   "outputs": [],
   "source": [
    "w=woe([float('-Inf'),0.835406,float('Inf')])\n",
    "w.fit(train['END_ULTIMO_SOW'],train['id'])\n",
    "#w.optimize(max_nodes=2,samples=round(0.05*len(train)))\n",
    "print(w.stat)\n",
    "print(w._checkMonotonic())\n",
    "print(sum(w.stat['bad'])/(sum(w.stat['bad'])+sum(w.stat['good'])))\n",
    "print(sum(w.stat['iv']))\n",
    "w.plot()\n"
   ]
  },
  {
   "cell_type": "code",
   "execution_count": null,
   "metadata": {
    "scrolled": false
   },
   "outputs": [],
   "source": [
    "train[str('END_ULTIMO_SOW_2'+'_binned')]=w.deploy(train)\n",
    "test[str('END_ULTIMO_SOW_2'+'_binned')]=w.deploy(test) \n",
    "base[str('END_ULTIMO_SOW_2'+'_binned')]=w.deploy(test) "
   ]
  },
  {
   "cell_type": "markdown",
   "metadata": {},
   "source": [
    "# Corrigiendo Capacidad"
   ]
  },
  {
   "cell_type": "code",
   "execution_count": null,
   "metadata": {
    "scrolled": false
   },
   "outputs": [],
   "source": [
    "train.cCodCta.unique()"
   ]
  },
  {
   "cell_type": "code",
   "execution_count": null,
   "metadata": {
    "scrolled": false
   },
   "outputs": [],
   "source": [
    "train2=train[train['cCodCta']!='            ']"
   ]
  },
  {
   "cell_type": "code",
   "execution_count": null,
   "metadata": {
    "scrolled": false
   },
   "outputs": [],
   "source": [
    "sum(train2.cCodCta.isnull())"
   ]
  },
  {
   "cell_type": "code",
   "execution_count": null,
   "metadata": {
    "scrolled": true
   },
   "outputs": [],
   "source": [
    "w=woe()\n",
    "w.fit(train2['END_CAPACIDAD_PAGO_CONTINGENTE_CORR_2'],train2['id'])\n",
    "w.optimize(max_nodes=2,samples=round(0.05*len(train)))\n",
    "print(w.stat)\n",
    "print(w._checkMonotonic())\n",
    "print(sum(w.stat['bad'])/(sum(w.stat['bad'])+sum(w.stat['good'])))\n",
    "print(sum(w.stat['iv']))\n",
    "w.plot()\n"
   ]
  },
  {
   "cell_type": "markdown",
   "metadata": {},
   "source": [
    "# Filtrando solo columnas de interes"
   ]
  },
  {
   "cell_type": "code",
   "execution_count": null,
   "metadata": {
    "scrolled": false
   },
   "outputs": [],
   "source": [
    "#Renombrando\n",
    "train = train.rename(columns={'capacidad_pago_contingente_corr_binned': 'END_capacidad_pago_contingente_corr_binned', 'capacidad_pago_contingente_corr': 'END_capacidad_pago_contingente_corr'})\n",
    "test = test.rename(columns={'capacidad_pago_contingente_corr_binned': 'END_capacidad_pago_contingente_corr_binned', 'capacidad_pago_contingente_corr': 'END_capacidad_pago_contingente_corr'})\n",
    "train = train.renam e(columns={'leverage_contingente_corr_binned': 'END_leverage_contingente_corr_binned', 'leverage_contingente_corr': 'END_leverage_contingente_corr'})\n",
    "test = test.rename(columns={'leverage_contingente_corr_binned': 'END_leverage_contingente_corr_binned', 'leverage_contingente_corr': 'END_leverage_contingente_corr'})"
   ]
  },
  {
   "cell_type": "code",
   "execution_count": null,
   "metadata": {
    "scrolled": false
   },
   "outputs": [],
   "source": [
    "#Quedandonos solo con las columnas de interes\n",
    "filter_col = [col for col in train if col.startswith('END_')]\n",
    "filter_col = [col for col in filter_col if col.endswith('_binned')]\n",
    "x_train = train[filter_col]\n",
    "x_test = test[filter_col]\n",
    "y_train = train['id']\n",
    "y_test = test['id']\n"
   ]
  },
  {
   "cell_type": "markdown",
   "metadata": {},
   "source": [
    "# Funciones Necesarias"
   ]
  },
  {
   "cell_type": "code",
   "execution_count": null,
   "metadata": {
    "scrolled": false
   },
   "outputs": [],
   "source": [
    "''' Backward Elimination'''\n",
    "\n",
    "def backwardElimination(Y, X, sl,frame=False,test=False,dftest=None):\n",
    "    numVars = len(X.columns)\n",
    "    for i in range(0, numVars):\n",
    "        X = sm.add_constant(X)\n",
    "        regressor = sm.Logit(Y, X).fit()\n",
    "        if frame:\n",
    "            print(regressor.summary())\n",
    "        maxVar = max(regressor.pvalues)#.astype(float)\n",
    "        if maxVar > sl:\n",
    "            for name in regressor.pvalues.index:\n",
    "                if (regressor.pvalues[name].astype(float) == maxVar) and name!='const': #\\\n",
    "               # and name!='const':\n",
    "                    X=X.drop([name],axis=1)\n",
    "                    if test:\n",
    "                        dftest=dftest.drop([name],axis=1)\n",
    "    return X,dftest\n",
    "\n",
    "\n",
    "''' Funcion para eliminar correlacion '''\n",
    "\n",
    "def eliminate_corr(df):\n",
    "    #Se pueden generar errores si una variables es no númerica\n",
    "    #print(df.shape)\n",
    "    corr=df.corr()\n",
    "    #print(corr.shape)\n",
    "    #Hacemos que por default todas las variables se incluyan (van con True)\n",
    "    columns = np.full((corr.shape[0],), True, dtype=bool)\n",
    "    \n",
    "    #Vamos por cada fila\n",
    "    for i in range(corr.shape[0]):\n",
    "        #Vamos por cada columnas diferente a la variable (por eso el i+1)\n",
    "        for j in range(i+1, corr.shape[0]):\n",
    "            \n",
    "            #Si la correlación es igual a 1 , hacemos que el campo sea False y por lo tanto no se incluya\n",
    "            if abs(corr.iloc[i,j]) == 1:\n",
    "                \n",
    "                if columns[j]:\n",
    "                    columns[j] = False\n",
    "       \n",
    "    selected_columns = df.columns[columns]\n",
    "    return selected_columns\n",
    "\n",
    "\n",
    "''' Funcion para escribir xlsx'''\n",
    "\n",
    "def save_xls(list_dfs, xls_path):\n",
    "    with ExcelWriter(xls_path) as writer:\n",
    "        for n, df in enumerate(list_dfs):\n",
    "            df.to_excel(writer,'sheet%s' % n)\n",
    "        writer.save()\n",
    "\n",
    "\n",
    "\n",
    "''' Funcion para eliminar correlaciones en función del IV '''\n",
    "\n",
    "def eliminate_corr_iv(df,correla,ivs,analisis_iv=True):\n",
    "    #Se pueden generar errores si una variables es no númerica\n",
    "    #print(df.shape)\n",
    "    corr=df.corr()\n",
    "    #print(corr.shape)\n",
    "    #Hacemos que por default todas las variables se incluyan (van con True)\n",
    "    columns = np.full((corr.shape[0],), True, dtype=bool)\n",
    "    \n",
    "    #Vamos por cada fila\n",
    "    for i in range(corr.shape[0]):\n",
    "        #Vamos por cada columnas diferente a la variable (por eso el i+1)\n",
    "        for j in range(i+1, corr.shape[0]):\n",
    "            \n",
    "        \n",
    "           # print(i)\n",
    "           # print(j)\n",
    "           # print(corr.index.values)\n",
    "           # print(corr.index.values[i][:-7])\n",
    "           # print(corr.columns.values[j][:-7])\n",
    "           # print(float(ivs[ivs['Names']==corr.index.values[i][:-7]]['IV']))\n",
    "           # print(float(ivs[ivs['Names']==corr.columns.values[j][:-7]]['IV']))\n",
    "            \n",
    "   \n",
    "            \n",
    "#            print((float(ivs[ivs['Names']==corr.columns.values[j][:-7]]['IV']) < float(ivs[ivs['Names']==corr.columns.values[i][:-7]]['IV'])))\n",
    "#            if abs(corr.iloc[i,j]) > 0.5:\n",
    "#                True\n",
    "#            else:\n",
    "#                False\n",
    "            \n",
    "#           break\n",
    "#        break\n",
    "        \n",
    "            #Si la correlación es igual a un corr , hacemos que el campo sea False y por lo tanto no se incluya\n",
    "            #Solo s excluye si el iv de la variable en la columna es menor a lde la fila \n",
    "            if abs(corr.iloc[i,j]) > correla:\n",
    "                if analisis_iv:\n",
    "                    if columns[j] and (float(ivs[ivs['Names']==corr.columns.values[j][:-7]]['IV']) > float(ivs[ivs['Names']==corr.columns.values[i][:-7]]['IV'])) :\n",
    "                        if columns[i]:\n",
    "                            columns[i] = False \n",
    "                    elif columns[j] and (float(ivs[ivs['Names']==corr.columns.values[j][:-7]]['IV']) < float(ivs[ivs['Names']==corr.columns.values[i][:-7]]['IV'])) : \n",
    "                        if columns[j]:\n",
    "                            columns[j] = False \n",
    "                    else:\n",
    "                        pass\n",
    "                else:\n",
    "                    if columns[j]:\n",
    "                        columns[j] = False \n",
    "\n",
    "            #break\n",
    "       \n",
    "    selected_columns = df.columns[columns]\n",
    "    return selected_columns        \n"
   ]
  },
  {
   "cell_type": "code",
   "execution_count": null,
   "metadata": {
    "scrolled": false
   },
   "outputs": [],
   "source": [
    "cor=x_train.corr()"
   ]
  },
  {
   "cell_type": "code",
   "execution_count": null,
   "metadata": {
    "scrolled": false
   },
   "outputs": [],
   "source": [
    "#print(cor.columns.values[0][:-7])\n",
    "#print(cor.index.values[1][:-7])\n",
    "float(ivs[ivs['Names']==cor.columns.values[0][:-7]]['IV'])"
   ]
  },
  {
   "cell_type": "code",
   "execution_count": null,
   "metadata": {
    "scrolled": false
   },
   "outputs": [],
   "source": [
    "#####Corrigiendo un problema con nombres #####\n",
    "#ivs2=ivs.copy()\n",
    "#ivs2[ivs2['Names']=='capacidad_pago_contingente_corr']['Names']\n",
    "#ivs2.at[133,'Names']='END_capacidad_pago_contingente_corr'\n",
    "#ivs2[ivs2['Names']=='END_leverage_contingente_corr']\n",
    "#ivs2.at[134,'Names']='END_leverage_contingente_corr'"
   ]
  },
  {
   "cell_type": "markdown",
   "metadata": {},
   "source": [
    "# Revisando Correlación"
   ]
  },
  {
   "cell_type": "code",
   "execution_count": null,
   "metadata": {
    "scrolled": false
   },
   "outputs": [],
   "source": [
    "#Creando la tabla final\n",
    "import numpy as np\n",
    "x_trainh=x_train.copy()\n",
    "x_train is x_trainh"
   ]
  },
  {
   "cell_type": "code",
   "execution_count": null,
   "metadata": {
    "scrolled": false
   },
   "outputs": [],
   "source": [
    "#Evitando que la matriz sea singular\n",
    "final_columns = eliminate_corr(x_trainh)"
   ]
  },
  {
   "cell_type": "code",
   "execution_count": null,
   "metadata": {
    "scrolled": false
   },
   "outputs": [],
   "source": [
    "x_trainh=x_trainh[final_columns]\n",
    "x_trainh.head()"
   ]
  },
  {
   "cell_type": "markdown",
   "metadata": {},
   "source": [
    "Ninguna variables tenia una correalción de 1"
   ]
  },
  {
   "cell_type": "code",
   "execution_count": null,
   "metadata": {
    "scrolled": false
   },
   "outputs": [],
   "source": [
    "#Evitando que la matriz tengan variables que se correlacionan mucho entre ellas\n",
    "final_columns = eliminate_corr_iv(x_train,0.60,ivs2,analisis_iv=False)\n",
    "print(len(final_columns))\n",
    "print(final_columns)\n"
   ]
  },
  {
   "cell_type": "code",
   "execution_count": null,
   "metadata": {
    "scrolled": false
   },
   "outputs": [],
   "source": [
    "#Evitando que la matriz tengan variables que se correlacionan mucho entre ellas\n",
    "final_columns = eliminate_corr_iv(x_train,0.60,ivs2,analisis_iv=True) #Notese que se usa iv2 en vez de ivs\n",
    "print(len(final_columns))\n",
    "print(final_columns)\n"
   ]
  },
  {
   "cell_type": "code",
   "execution_count": null,
   "metadata": {
    "scrolled": false
   },
   "outputs": [],
   "source": [
    "x_trainh=x_train.copy()\n",
    "x_trainh=x_trainh[final_columns]\n",
    "x_testh=x_test.copy()\n",
    "x_testh=x_testh[final_columns]"
   ]
  },
  {
   "cell_type": "code",
   "execution_count": null,
   "metadata": {
    "scrolled": true
   },
   "outputs": [],
   "source": [
    "x_trainh.drop(['END_capacidad_pago_contingente_corr_binned','END_MAX_INCREM_SALDO_TOTAL_U6M_binned','END_MAX_INCREM_SALDO_MICRO_U12M_binned'],axis=1,inplace=True)\n",
    "x_testh.drop(['END_capacidad_pago_contingente_corr_binned','END_MAX_INCREM_SALDO_TOTAL_U6M_binned','END_MAX_INCREM_SALDO_MICRO_U12M_binned'],axis=1,inplace=True)\n",
    "print(x_trainh.columns)\n",
    "print(x_testh.columns)"
   ]
  },
  {
   "cell_type": "code",
   "execution_count": null,
   "metadata": {
    "scrolled": false
   },
   "outputs": [],
   "source": [
    "x_trainh.head()"
   ]
  },
  {
   "cell_type": "markdown",
   "metadata": {},
   "source": [
    "# Cambiando variables"
   ]
  },
  {
   "cell_type": "code",
   "execution_count": null,
   "metadata": {
    "scrolled": false
   },
   "outputs": [],
   "source": [
    "print(len(train))\n",
    "print(len(x_trainh))"
   ]
  },
  {
   "cell_type": "code",
   "execution_count": null,
   "metadata": {
    "scrolled": false
   },
   "outputs": [],
   "source": [
    "#x_trainh.drop(['END_ULTIMO_SOW_2_binned','END_PROM_PU_TC_U12M_NA_binned'],axis=1,inplace=True)\n",
    "#x_testh.drop(['END_ULTIMO_SOW_2_binned','END_PROM_PU_TC_U12M_NA_binned'],axis=1,inplace=True)\n",
    "x_trainh.drop(['END_PROM_PU_TC_U12M_binned','END_ULTIMO_SOW_binned'],axis=1,inplace=True)\n",
    "x_testh.drop(['END_PROM_PU_TC_U12M_binned','END_ULTIMO_SOW_binned'],axis=1,inplace=True)\n",
    "x_trainh=pd.concat([x_trainh,train[['END_ULTIMO_SOW_2_binned','END_PROM_PU_TC_U12M_NA_binned']]],axis=1)\n",
    "x_testh=pd.concat([x_testh,test[['END_ULTIMO_SOW_2_binned','END_PROM_PU_TC_U12M_NA_binned']]],axis=1)\n",
    "x_trainh.columns"
   ]
  },
  {
   "cell_type": "code",
   "execution_count": null,
   "metadata": {
    "scrolled": false
   },
   "outputs": [],
   "source": [
    "x_trainh.drop(['END_PROM_PU_TC_U12M_NA_binned'],axis=1,inplace=True)\n",
    "x_testh.drop(['END_PROM_PU_TC_U12M_NA_binned'],axis=1,inplace=True)"
   ]
  },
  {
   "cell_type": "code",
   "execution_count": null,
   "metadata": {
    "scrolled": false
   },
   "outputs": [],
   "source": [
    "x_trainh.head()"
   ]
  },
  {
   "cell_type": "code",
   "execution_count": null,
   "metadata": {
    "scrolled": false
   },
   "outputs": [],
   "source": [
    "x_trainh.columns"
   ]
  },
  {
   "cell_type": "code",
   "execution_count": null,
   "metadata": {
    "scrolled": false
   },
   "outputs": [],
   "source": [
    "x_trainh=pd.concat([x_trainh, train['END_capacidad_pago_contingente_corr_binned']],axis=1)\n",
    "x_trainh.columns"
   ]
  },
  {
   "cell_type": "code",
   "execution_count": null,
   "metadata": {
    "scrolled": false
   },
   "outputs": [],
   "source": [
    "x_testh=pd.concat([x_testh, test['END_capacidad_pago_contingente_corr_binned']],axis=1)\n",
    "x_testh.columns"
   ]
  },
  {
   "cell_type": "markdown",
   "metadata": {},
   "source": [
    "# Modelamiento"
   ]
  },
  {
   "cell_type": "code",
   "execution_count": null,
   "metadata": {
    "scrolled": true
   },
   "outputs": [],
   "source": [
    "x_trainh.corr()"
   ]
  },
  {
   "cell_type": "code",
   "execution_count": null,
   "metadata": {
    "scrolled": false
   },
   "outputs": [],
   "source": [
    "import statsmodels.api as sm"
   ]
  },
  {
   "cell_type": "code",
   "execution_count": null,
   "metadata": {
    "scrolled": false
   },
   "outputs": [],
   "source": [
    "#Añadiendo Constante\n",
    "#x_trainh = x_train.copy()\n",
    "x_trainh = sm.add_constant(x_trainh)\n",
    "x_testh = sm.add_constant(x_testh)"
   ]
  },
  {
   "cell_type": "code",
   "execution_count": null,
   "metadata": {
    "scrolled": false
   },
   "outputs": [],
   "source": [
    "#Definiendo Respuesta\n",
    "y_trainh = 1 - y_train\n",
    "y_testh = 1 - y_test"
   ]
  },
  {
   "cell_type": "code",
   "execution_count": null,
   "metadata": {
    "scrolled": false
   },
   "outputs": [],
   "source": [
    "#Nivel de p value\n",
    "SL=0.01"
   ]
  },
  {
   "cell_type": "code",
   "execution_count": null,
   "metadata": {
    "scrolled": false
   },
   "outputs": [],
   "source": [
    "#Backward Elimination\n",
    "x_trainh,x_testh = backwardElimination(y_trainh,x_trainh,\\\n",
    "                                           SL,test=True,\\\n",
    "                                       dftest=x_testh,frame=True)\n"
   ]
  },
  {
   "cell_type": "code",
   "execution_count": null,
   "metadata": {
    "scrolled": false
   },
   "outputs": [],
   "source": [
    "x_trainh.columns"
   ]
  },
  {
   "cell_type": "code",
   "execution_count": null,
   "metadata": {
    "scrolled": false
   },
   "outputs": [],
   "source": [
    "x_trainh.drop('END_capacidad_pago_contingente_corr_binned',axis=1,inplace=True)\n",
    "x_testh.drop('END_capacidad_pago_contingente_corr_binned',axis=1,inplace=True)"
   ]
  },
  {
   "cell_type": "code",
   "execution_count": null,
   "metadata": {
    "scrolled": false
   },
   "outputs": [],
   "source": [
    "#Modelo Final 1 \n",
    "est = sm.Logit(y_trainh,x_trainh)\n",
    "res = est.fit()\n",
    "print(res.summary())"
   ]
  },
  {
   "cell_type": "markdown",
   "metadata": {},
   "source": [
    "# Chequeando que las variables tengan sentido"
   ]
  },
  {
   "cell_type": "code",
   "execution_count": null,
   "metadata": {
    "scrolled": false
   },
   "outputs": [],
   "source": [
    "ivs[ivs['Names']=='END_PROM_PU_TC_U12M']\n",
    "cuadros[13] "
   ]
  },
  {
   "cell_type": "markdown",
   "metadata": {},
   "source": [
    "¿Mejora en IV por agregar la categoría NA?"
   ]
  },
  {
   "cell_type": "code",
   "execution_count": null,
   "metadata": {
    "scrolled": false
   },
   "outputs": [],
   "source": [
    "ivs[ivs['Names']=='END_ULTIMO_SOW']\n",
    "print(cuadros[17])\n",
    "sum(cuadros[17].iv)"
   ]
  },
  {
   "cell_type": "markdown",
   "metadata": {},
   "source": [
    "Agregar saldo compartamos (crear una nueva variable)\n",
    "Juntar el campo 0 y el campo 1 en esta variable                       "
   ]
  },
  {
   "cell_type": "code",
   "execution_count": null,
   "metadata": {
    "scrolled": false
   },
   "outputs": [],
   "source": [
    "ivs[ivs['Names']=='END_DIF_ENT_TOTAL_U12M']\n",
    "cuadros[28]\n",
    "#sum(cuadros[28].iv)"
   ]
  },
  {
   "cell_type": "markdown",
   "metadata": {},
   "source": [
    "Deberiamos trabajar con saldo compartamos actualizado\n",
    "OK"
   ]
  },
  {
   "cell_type": "code",
   "execution_count": null,
   "metadata": {
    "scrolled": false
   },
   "outputs": [],
   "source": [
    "ivs[ivs['Names']=='END_VAR_SALDO_TOTAL_U12M']\n",
    "cuadros[44] "
   ]
  },
  {
   "cell_type": "markdown",
   "metadata": {},
   "source": [
    "OK"
   ]
  },
  {
   "cell_type": "code",
   "execution_count": null,
   "metadata": {
    "scrolled": false
   },
   "outputs": [],
   "source": [
    "ivs[ivs['Names']=='END_ENT_SALDO_TOTAL_UM']\n",
    "cuadros[56] "
   ]
  },
  {
   "cell_type": "markdown",
   "metadata": {},
   "source": [
    "OK"
   ]
  },
  {
   "cell_type": "code",
   "execution_count": null,
   "metadata": {
    "scrolled": false
   },
   "outputs": [],
   "source": [
    "#END_DIF_PORCEN_UTIL_LINEA_U12M\n",
    "ivs[ivs['Names']=='END_DIF_PORCEN_UTIL_LINEA_U12M']\n",
    "cuadros[64] "
   ]
  },
  {
   "cell_type": "markdown",
   "metadata": {},
   "source": [
    "OK"
   ]
  },
  {
   "cell_type": "code",
   "execution_count": null,
   "metadata": {
    "scrolled": false
   },
   "outputs": [],
   "source": [
    "ivs[ivs['Names']=='END_NUM_INCREM_SALDO_TOTAL_U9M']\n",
    "cuadros[67]\n",
    "#END_NUM_INCREM_SALDO_TOTAL_U9M"
   ]
  },
  {
   "cell_type": "code",
   "execution_count": null,
   "metadata": {
    "scrolled": false
   },
   "outputs": [],
   "source": [
    "OK"
   ]
  },
  {
   "cell_type": "code",
   "execution_count": null,
   "metadata": {
    "scrolled": false
   },
   "outputs": [],
   "source": [
    "ivs[ivs['Names']=='END_MAXSALDOTC_PROMLINEATC_U12M']\n",
    "cuadros[76]\n",
    "#END_MAXSALDOTC_PROMLINEATC_U12M"
   ]
  },
  {
   "cell_type": "code",
   "execution_count": null,
   "metadata": {
    "scrolled": false
   },
   "outputs": [],
   "source": [
    "OK"
   ]
  },
  {
   "cell_type": "code",
   "execution_count": null,
   "metadata": {
    "scrolled": false
   },
   "outputs": [],
   "source": [
    "ivs[ivs['Names']=='END_DEUACT_MAXDEU_TOTAL_U24M']\n",
    "cuadros[93]"
   ]
  },
  {
   "cell_type": "markdown",
   "metadata": {},
   "source": [
    "OK"
   ]
  },
  {
   "cell_type": "code",
   "execution_count": null,
   "metadata": {
    "scrolled": false
   },
   "outputs": [],
   "source": [
    "ivs[ivs['Names']=='END_MAX_INCREM_SALDO_TOTAL_U6M']\n",
    "cuadros[114]"
   ]
  },
  {
   "cell_type": "code",
   "execution_count": null,
   "metadata": {
    "scrolled": false
   },
   "outputs": [],
   "source": [
    "ivs[ivs['Names']=='END_MAX_INCREM_SALDO_MICRO_U12M']\n",
    "cuadros[117]"
   ]
  },
  {
   "cell_type": "code",
   "execution_count": null,
   "metadata": {
    "scrolled": false
   },
   "outputs": [],
   "source": [
    "ivs[ivs['Names']=='END_NUM_DECREM_SALDO_U24M']\n",
    "cuadros[120]"
   ]
  },
  {
   "cell_type": "markdown",
   "metadata": {},
   "source": [
    "OK"
   ]
  },
  {
   "cell_type": "code",
   "execution_count": null,
   "metadata": {
    "scrolled": false
   },
   "outputs": [],
   "source": [
    "ivs[ivs['Names']=='capacidad_pago_contingente_corr']\n",
    "cuadros[133]\n"
   ]
  },
  {
   "cell_type": "markdown",
   "metadata": {},
   "source": [
    "# KS Gini"
   ]
  },
  {
   "cell_type": "code",
   "execution_count": null,
   "metadata": {
    "scrolled": false
   },
   "outputs": [],
   "source": [
    "print(x_trainh.shape)\n",
    "print(x_testh.shape)"
   ]
  },
  {
   "cell_type": "code",
   "execution_count": null,
   "metadata": {
    "scrolled": false
   },
   "outputs": [],
   "source": [
    "y_pred_test=res.predict(x_testh)\n",
    "y_pred_train=res.predict(x_trainh)"
   ]
  },
  {
   "cell_type": "code",
   "execution_count": null,
   "metadata": {
    "scrolled": false
   },
   "outputs": [],
   "source": [
    "print('-----------------------------------------------Train--------------------------------------')\n",
    "print(gini(y_trainh,y_pred_train,plot=True)) # Train\n",
    "print(ks(y_trainh,y_pred_train)) #Train\n",
    "print('-----------------------------------------------Test---------------------------------------')\n",
    "print(gini(y_testh,y_pred_test,plot=True)) # Test\n",
    "print(ks(y_testh,y_pred_test)) #Test"
   ]
  },
  {
   "cell_type": "code",
   "execution_count": null,
   "metadata": {
    "scrolled": false
   },
   "outputs": [],
   "source": [
    "0.3074  0.22\n",
    "0.3139  0.22"
   ]
  },
  {
   "cell_type": "markdown",
   "metadata": {},
   "source": [
    "# Score Card"
   ]
  },
  {
   "cell_type": "code",
   "execution_count": null,
   "metadata": {
    "scrolled": false
   },
   "outputs": [],
   "source": [
    "scoreCard=pd.concat([cuadros[28],cuadros[44],cuadros[56],cuadros[64],cuadros[67],cuadros[76],cuadros[93],cuadros[120],tabla_sow],axis=0)"
   ]
  },
  {
   "cell_type": "code",
   "execution_count": null,
   "metadata": {
    "scrolled": false
   },
   "outputs": [],
   "source": [
    "scoreCard"
   ]
  },
  {
   "cell_type": "code",
   "execution_count": null,
   "metadata": {
    "scrolled": false
   },
   "outputs": [],
   "source": [
    "len(x_train.columns)"
   ]
  },
  {
   "cell_type": "markdown",
   "metadata": {},
   "source": [
    "# Exportando a Excel"
   ]
  },
  {
   "cell_type": "code",
   "execution_count": null,
   "metadata": {
    "scrolled": false
   },
   "outputs": [],
   "source": [
    "from pandas import ExcelWriter\n",
    "results_summary = res.summary()\n",
    "results_as_html = results_summary.tables[1].as_html()\n",
    "results=pd.read_html(results_as_html, header=0, index_col=0)[0]\n",
    "    \n",
    "save_xls([scoreCard,results],'final1.xlsx')"
   ]
  },
  {
   "cell_type": "code",
   "execution_count": null,
   "metadata": {
    "scrolled": false
   },
   "outputs": [],
   "source": [
    "x_trainh.columns"
   ]
  },
  {
   "cell_type": "markdown",
   "metadata": {},
   "source": [
    "# Puntaje "
   ]
  },
  {
   "cell_type": "code",
   "execution_count": null,
   "metadata": {
    "scrolled": false
   },
   "outputs": [],
   "source": [
    "import math"
   ]
  },
  {
   "cell_type": "code",
   "execution_count": null,
   "metadata": {
    "scrolled": false
   },
   "outputs": [],
   "source": [
    "len(df)"
   ]
  },
  {
   "cell_type": "code",
   "execution_count": null,
   "metadata": {
    "scrolled": false
   },
   "outputs": [],
   "source": [
    "df.id.unique()"
   ]
  },
  {
   "cell_type": "code",
   "execution_count": null,
   "metadata": {
    "scrolled": false
   },
   "outputs": [],
   "source": [
    "tabla_sow"
   ]
  },
  {
   "cell_type": "code",
   "execution_count": null,
   "metadata": {
    "scrolled": false
   },
   "outputs": [],
   "source": [
    "tabla_sow['z']='END_ULTIMO_SOW'\n",
    "tabla_sow"
   ]
  },
  {
   "cell_type": "code",
   "execution_count": null,
   "metadata": {
    "scrolled": false
   },
   "outputs": [],
   "source": [
    "m= woe()\n",
    "#Deploy en frames\n",
    "\n",
    "#[cuadros[28],cuadros[44],cuadros[56],cuadros[64],cuadros[67],cuadros[76],cuadros[93],cuadros[120],tabla_sow]\n",
    "\n",
    "\n",
    "df['END_DIF_ENT_TOTAL_U12M_binned']=m.deploy_frame(cuadros[28],df)\n",
    "df['END_VAR_SALDO_TOTAL_U12M_binned']=m.deploy_frame(cuadros[44],df)\n",
    "df['END_ENT_SALDO_TOTAL_UM_binned']=m.deploy_frame(cuadros[56],df)\n",
    "df['END_DIF_PORCEN_UTIL_LINEA_U12M_binned']=m.deploy_frame(cuadros[64],df)\n",
    "df['END_NUM_INCREM_SALDO_TOTAL_U9M_binned']=m.deploy_frame(cuadros[67],df)\n",
    "df['END_MAXSALDOTC_PROMLINEATC_U12M_binned']=m.deploy_frame(cuadros[76],df)\n",
    "df['END_DEUACT_MAXDEU_TOTAL_U24M_binned']=m.deploy_frame(cuadros[93],df)\n",
    "df['END_NUM_DECREM_SALDO_U24M_binned']=m.deploy_frame(cuadros[120],df)\n",
    "df['END_ULTIMO_SOW_2_binned']=m.deploy_frame(tabla_sow,df)"
   ]
  },
  {
   "cell_type": "code",
   "execution_count": null,
   "metadata": {
    "scrolled": false
   },
   "outputs": [],
   "source": [
    "df.columns"
   ]
  },
  {
   "cell_type": "code",
   "execution_count": null,
   "metadata": {
    "scrolled": false
   },
   "outputs": [],
   "source": [
    "#Puntaje \n",
    "df['puntaje']= (res.params[0]+ \\\n",
    "df['END_DIF_ENT_TOTAL_U12M_binned']*res.params[1]+ \\\n",
    "df['END_VAR_SALDO_TOTAL_U12M_binned']*res.params[2]+\\\n",
    "df['END_ENT_SALDO_TOTAL_UM_binned']*res.params[3]+\\\n",
    "df['END_DIF_PORCEN_UTIL_LINEA_U12M_binned']*res.params[4]+\\\n",
    "df['END_NUM_INCREM_SALDO_TOTAL_U9M_binned']*res.params[5]+\\\n",
    "df['END_MAXSALDOTC_PROMLINEATC_U12M_binned']*res.params[6]+\\\n",
    "df['END_DEUACT_MAXDEU_TOTAL_U24M_binned']*res.params[7]+\\\n",
    "df['END_NUM_DECREM_SALDO_U24M_binned']*res.params[8]+\\\n",
    "df['END_ULTIMO_SOW_2_binned']*res.params[9])*80/math.log(2)+ 600"
   ]
  },
  {
   "cell_type": "markdown",
   "metadata": {},
   "source": [
    "# Agregando Mora de Cosechas "
   ]
  },
  {
   "cell_type": "code",
   "execution_count": null,
   "metadata": {
    "scrolled": false
   },
   "outputs": [],
   "source": [
    "f=\"SELECT cCodSol,ncapdes,nsalven FROM bdrie.dbo.ori_base_f2 \"\n",
    "sql_con = pyodbc.connect('driver={SQL Server};SERVER=OF00SRVBDH;Trusted_Connection=True;DATABASE=MIS1')\n",
    "chunk2  = pd.read_sql(f, sql_con)"
   ]
  },
  {
   "cell_type": "code",
   "execution_count": null,
   "metadata": {
    "scrolled": false
   },
   "outputs": [],
   "source": [
    "chunk2['cCodSol']=chunk2['cCodSol'].astype(float)"
   ]
  },
  {
   "cell_type": "code",
   "execution_count": null,
   "metadata": {
    "scrolled": false
   },
   "outputs": [],
   "source": [
    "df=df.merge(chunk2[['cCodSol','ncapdes','nsalven']], how='left',on='cCodSol')\n",
    "\n",
    "df.head()"
   ]
  },
  {
   "cell_type": "markdown",
   "metadata": {},
   "source": [
    "# Segmentación de Score"
   ]
  },
  {
   "cell_type": "code",
   "execution_count": null,
   "metadata": {
    "scrolled": false
   },
   "outputs": [],
   "source": [
    "#col_names = {'count_nonzero': 'tasamalos', 'size': 'obs'}\n",
    "df['bucket'] = pd.qcut(df['puntaje'], 20 ,\\\n",
    "         duplicates='drop',retbins=True)[0]"
   ]
  },
  {
   "cell_type": "code",
   "execution_count": null,
   "metadata": {
    "scrolled": false
   },
   "outputs": [],
   "source": [
    "df['mora6']=df['nsalven']/df['ncapdes']"
   ]
  },
  {
   "cell_type": "code",
   "execution_count": null,
   "metadata": {
    "scrolled": false
   },
   "outputs": [],
   "source": [
    "analisis=df[['bucket','id','mora6','cCodSol']]"
   ]
  },
  {
   "cell_type": "markdown",
   "metadata": {},
   "source": [
    "# Probando con clientes con al menos un RCC"
   ]
  },
  {
   "cell_type": "code",
   "execution_count": null,
   "metadata": {
    "scrolled": false
   },
   "outputs": [],
   "source": [
    "df.id.unique()"
   ]
  },
  {
   "cell_type": "code",
   "execution_count": null,
   "metadata": {
    "scrolled": false
   },
   "outputs": [],
   "source": [
    "len(df)"
   ]
  },
  {
   "cell_type": "code",
   "execution_count": null,
   "metadata": {
    "scrolled": false
   },
   "outputs": [],
   "source": [
    "df2 = df[(df['END_ENT_SALDO_TOTAL_UM']>0) & (df['id']!=2)]"
   ]
  },
  {
   "cell_type": "code",
   "execution_count": null,
   "metadata": {
    "scrolled": false
   },
   "outputs": [],
   "source": [
    "print(len(df2))\n",
    "print(len(x_trainh)+len(x_testh))"
   ]
  },
  {
   "cell_type": "code",
   "execution_count": null,
   "metadata": {
    "scrolled": false
   },
   "outputs": [],
   "source": [
    "df2['id2'] = 1 - df2['id']"
   ]
  },
  {
   "cell_type": "code",
   "execution_count": null,
   "metadata": {
    "scrolled": false
   },
   "outputs": [],
   "source": [
    "print('--------------------------------------------Al menos un RCC--------------------------------------')\n",
    "print(gini(df2['id2'],df2['puntaje'],plot=True))\n",
    "print(ks(df2['id2'],df2['puntaje'])) \n"
   ]
  },
  {
   "cell_type": "markdown",
   "metadata": {},
   "source": [
    "# Probando con clientes que hayan desembolsado"
   ]
  },
  {
   "cell_type": "code",
   "execution_count": null,
   "metadata": {
    "scrolled": false
   },
   "outputs": [],
   "source": [
    "df3=df2[df2['ncapdes']>0]"
   ]
  },
  {
   "cell_type": "code",
   "execution_count": null,
   "metadata": {
    "scrolled": false
   },
   "outputs": [],
   "source": [
    "print('--------------------------------------------Desembolsado--------------------------------------')\n",
    "print(gini(df3['id2'],df3['puntaje'],plot=True))\n",
    "print(ks(df3['id2'],df3['puntaje'])) "
   ]
  },
  {
   "cell_type": "markdown",
   "metadata": {},
   "source": [
    "# Nuevo modelo con al menos una entidad"
   ]
  },
  {
   "cell_type": "code",
   "execution_count": null,
   "metadata": {
    "scrolled": false
   },
   "outputs": [],
   "source": [
    "#Filtramos\n",
    "base_g = df2[df2['id']!= 2]\n",
    "print(len(base_g))\n",
    "print(base_g.id.unique())\n",
    "\n",
    "#Dividimos en Train y Test\n",
    "from sklearn.model_selection import train_test_split\n",
    "train_g,test_g=train_test_split(base_g,test_size=0.3)\n",
    "print(len(train_g))\n",
    "print(len(test_g))\n"
   ]
  },
  {
   "cell_type": "code",
   "execution_count": null,
   "metadata": {
    "scrolled": false
   },
   "outputs": [],
   "source": [
    "train_g= train_g[['END_DIF_ENT_TOTAL_U12M',\n",
    "       'END_VAR_SALDO_TOTAL_U12M', 'END_ENT_SALDO_TOTAL_UM',\n",
    "       'END_DIF_PORCEN_UTIL_LINEA_U12M',\n",
    "       'END_NUM_INCREM_SALDO_TOTAL_U9M',\n",
    "       'END_MAXSALDOTC_PROMLINEATC_U12M',\n",
    "       'END_DEUACT_MAXDEU_TOTAL_U24M',\n",
    "       'END_NUM_DECREM_SALDO_U24M', 'END_ULTIMO_SOW','id']]\n",
    "\n",
    "test_g= test_g[['END_DIF_ENT_TOTAL_U12M',\n",
    "       'END_VAR_SALDO_TOTAL_U12M', 'END_ENT_SALDO_TOTAL_UM',\n",
    "       'END_DIF_PORCEN_UTIL_LINEA_U12M',\n",
    "       'END_NUM_INCREM_SALDO_TOTAL_U9M',\n",
    "       'END_MAXSALDOTC_PROMLINEATC_U12M',\n",
    "       'END_DEUACT_MAXDEU_TOTAL_U24M',\n",
    "       'END_NUM_DECREM_SALDO_U24M', 'END_ULTIMO_SOW','id']]\n"
   ]
  },
  {
   "cell_type": "code",
   "execution_count": null,
   "metadata": {
    "scrolled": true
   },
   "outputs": [],
   "source": [
    "import woe5 as woe"
   ]
  },
  {
   "cell_type": "code",
   "execution_count": null,
   "metadata": {
    "scrolled": false
   },
   "outputs": [],
   "source": [
    "%%time\n",
    "w=woe()\n",
    "grid=w.massive(train_g,'id',deploy=True,train=train_g,test=test_g)\n",
    "#Agregar al deplot df2"
   ]
  },
  {
   "cell_type": "code",
   "execution_count": null,
   "metadata": {
    "scrolled": true
   },
   "outputs": [],
   "source": [
    "w=woe()\n",
    "grid=w.massive(train_g,'id')"
   ]
  },
  {
   "cell_type": "code",
   "execution_count": null,
   "metadata": {
    "scrolled": true
   },
   "outputs": [],
   "source": [
    "grid[0].sort_values(by='IV', ascending=False)"
   ]
  },
  {
   "cell_type": "code",
   "execution_count": null,
   "metadata": {
    "scrolled": false
   },
   "outputs": [],
   "source": [
    "grid[0].sort_values(by='IV', ascending=False)"
   ]
  },
  {
   "cell_type": "code",
   "execution_count": null,
   "metadata": {
    "scrolled": false
   },
   "outputs": [],
   "source": [
    "#Quedandonos solo con las columnas de interes\n",
    "filter_col2 = [col for col in train_g if col.startswith('END_')]\n",
    "filter_col2 = [col for col in filter_col2 if col.endswith('_binned')]\n",
    "x_traing = train_g[filter_col2]\n",
    "x_testg = test_g[filter_col2]\n",
    "y_traing = train_g['id']\n",
    "y_testg = test_g['id']"
   ]
  },
  {
   "cell_type": "code",
   "execution_count": null,
   "metadata": {
    "scrolled": false
   },
   "outputs": [],
   "source": [
    "#Previas al modelo\n",
    "x_traing = sm.add_constant(x_traing)\n",
    "x_testg = sm.add_constant(x_testg)\n",
    "\n",
    "y_traing = 1 - y_traing\n",
    "y_testg = 1 - y_testg\n"
   ]
  },
  {
   "cell_type": "code",
   "execution_count": null,
   "metadata": {
    "scrolled": true
   },
   "outputs": [],
   "source": [
    "import statsmodels.api as sm\n",
    "estg = sm.Logit(y_traing,x_traing)\n",
    "resg = estg.fit()\n",
    "print(resg.summary())"
   ]
  },
  {
   "cell_type": "code",
   "execution_count": null,
   "metadata": {
    "scrolled": false
   },
   "outputs": [],
   "source": [
    "resg.summary()"
   ]
  },
  {
   "cell_type": "code",
   "execution_count": null,
   "metadata": {
    "scrolled": false
   },
   "outputs": [],
   "source": [
    "#KS Gini\n",
    "\n",
    "y_pred_testg=resg.predict(x_testg)\n",
    "y_pred_traing=resg.predict(x_traing)\n",
    "\n",
    "print('----------------------------------------Train con al menos 1 Entidad--------------------------------------')\n",
    "print(gini(y_traing,y_pred_traing,plot=True)) # Train\n",
    "print(ks(y_traing,y_pred_traing)) #Train\n",
    "print('-----------------------------------------Test con al menos 1 Entidad -------------------------------------')\n",
    "print(gini(y_testg,y_pred_testg,plot=True)) # Test\n",
    "print(ks(y_testg,y_pred_testg)) #Test\n",
    "\n",
    "\n"
   ]
  },
  {
   "cell_type": "code",
   "execution_count": null,
   "metadata": {
    "scrolled": false
   },
   "outputs": [],
   "source": [
    "######################################################Score Card###################################\n",
    "card2=pd.DataFrame()\n",
    "for cuadro in grid[1]:\n",
    "    card2=pd.concat([card2,cuadro],axis=0)\n",
    "    "
   ]
  },
  {
   "cell_type": "code",
   "execution_count": null,
   "metadata": {
    "scrolled": false
   },
   "outputs": [],
   "source": [
    "#Añadiendo coeficientes\n",
    "results_summary = resg.summary()\n",
    "results_as_html = results_summary.tables[1].as_html()\n",
    "results=pd.read_html(results_as_html, header=0, index_col=0)[0]\n",
    "results=results.reset_index()\n",
    "results['index'] = results['index'].map(lambda x: x.rstrip('_binned'))\n",
    "results=results.set_index('index')\n",
    "card2=card2.set_index('z')\n",
    "card2=card2.join(results['coef'])\n",
    "card2.reset_index()"
   ]
  },
  {
   "cell_type": "code",
   "execution_count": null,
   "metadata": {
    "scrolled": false
   },
   "outputs": [],
   "source": [
    "#Añadiendo puntajes\n",
    "import math\n",
    "a_sumar=(resg.params[0]*80/math.log(2))/(len(resg.params)-1)\n",
    "card2['puntaje']=round(card2['coef']*card2['woe']*100)\n",
    "card2['puntaje_ajustado'] = round(card2['coef']*card2['woe']*80/math.log(2)+a_sumar)"
   ]
  },
  {
   "cell_type": "code",
   "execution_count": null,
   "metadata": {
    "scrolled": false
   },
   "outputs": [],
   "source": [
    "card2[['breaks','puntaje_ajustado']]"
   ]
  },
  {
   "cell_type": "code",
   "execution_count": null,
   "metadata": {
    "scrolled": false
   },
   "outputs": [],
   "source": [
    "#Exportando\n",
    "from pandas import ExcelWriter\n",
    "\n",
    "save_xls([card2,results],'finalfinal.xlsx')"
   ]
  },
  {
   "cell_type": "code",
   "execution_count": null,
   "metadata": {
    "scrolled": true
   },
   "outputs": [],
   "source": [
    "#Guardando con pickle\n",
    "import pickle\n",
    "#pickle.dump(cuadro, open('cuadro_ivs.pkl','wb'))\n",
    "#pickle.dump(train, open('ori3_train.pkl','wb'))\n",
    "#pickle.dump(test, open('ori3_test.pkl','wb'))\n",
    "pickle.dump(ivs, open('ivs.pkl','wb'))\n",
    "pickle.dump(x_train, open('x_train.pkl','wb'))\n",
    "pickle.dump(y_train, open('y_train.pkl','wb'))\n",
    "pickle.dump(x_test, open('x_test.pkl','wb'))\n",
    "pickle.dump(y_test, open('y_test.pkl','wb'))\n",
    "pickle.dump(df, open('df.pkl','wb'))\n",
    "pickle.dump(df2, open('df2.pkl','wb'))\n",
    "pickle.dump(train_g, open('train_g.pkl','wb'))\n",
    "pickle.dump(test_g, open('test_g.pkl','wb'))\n",
    "pickle.dump(base_g, open('base_g.pkl','wb'))\n",
    "pickle.dump(x_traing, open('x_traing.pkl','wb'))\n",
    "pickle.dump(x_testg, open('x_testg.pkl','wb'))\n",
    "pickle.dump(y_traing, open('y_traing.pkl','wb'))\n",
    "pickle.dump(y_testg, open('y_testg.pkl','wb'))\n",
    "pickle.dump(y_pred_traing, open('y_pred_traing.pkl','wb'))\n",
    "pickle.dump(y_pred_testg, open('y_pred_testg.pkl','wb'))\n",
    "pickle.dump(card2, open('card2.pkl','wb'))\n",
    "pickle.dump(results, open('results.pkl','wb'))\n",
    "#card2 =  pickle.load(open('card2.pkl', 'rb'))\n",
    "pickle.dump(dff, open('dff.pkl','wb'))\n",
    "pickle.dump(resg, open('resg.pkl','wb'))"
   ]
  },
  {
   "cell_type": "code",
   "execution_count": null,
   "metadata": {
    "scrolled": true
   },
   "outputs": [],
   "source": [
    "import pickle\n",
    "#card2\n",
    "#cuadro_ivs\n",
    "#df\n",
    "#ivs\n",
    "#x_testg\n",
    "#x_traing\n",
    "#y_testg\n",
    "#y_traing\n",
    "card2 =  pickle.load(open('card2.pkl', 'rb'))\n",
    "cuadro_ivs =  pickle.load(open('cuadro_ivs.pkl', 'rb'))\n",
    "df =  pickle.load(open('df.pkl', 'rb'))\n",
    "ivs =  pickle.load(open('ivs.pkl', 'rb'))\n",
    "x_testg =  pickle.load(open('x_testg.pkl', 'rb'))\n",
    "x_traing =  pickle.load(open('x_traing.pkl', 'rb'))\n",
    "y_testg =  pickle.load(open('y_testg.pkl', 'rb'))\n",
    "y_traing =  pickle.load(open('y_traing.pkl', 'rb'))\n",
    "df2 =  pickle.load(open('df2.pkl', 'rb'))\n",
    "train_g =  pickle.load(open('train_g.pkl', 'rb'))\n",
    "test_g =  pickle.load(open('test_g.pkl', 'rb'))\n"
   ]
  },
  {
   "cell_type": "code",
   "execution_count": null,
   "metadata": {},
   "outputs": [],
   "source": [
    "dff =  pickle.load(open('dff.pkl', 'rb'))"
   ]
  },
  {
   "cell_type": "code",
   "execution_count": null,
   "metadata": {
    "scrolled": true
   },
   "outputs": [],
   "source": [
    "#Graficos\n",
    "for cuadro in grid[1]:\n",
    "    cuadro.plot(x='breaks',y='mean',kind='bar',title=cuadro['z'][0])\n"
   ]
  },
  {
   "cell_type": "code",
   "execution_count": null,
   "metadata": {
    "scrolled": true
   },
   "outputs": [],
   "source": [
    "#Poniendo nuevos binned\n",
    "m=woe()\n",
    "\n",
    "dff = df[df['END_ENT_SALDO_TOTAL_UM']>0]\n",
    "\n",
    "#dff = df[(df['END_ENT_SALDO_TOTAL_UM']>0) & (df['cTipCre']!='R') & (df['ncapdes']>0)]\n",
    "\n",
    "for cuadro in grid[1]:\n",
    "    #print(cuadro)\n",
    "    try:\n",
    "        dff[cuadro['z'][0]+'_binned_g']=m.deploy_frame(cuadro,dff)\n",
    "    except:\n",
    "        print('Error')\n"
   ]
  },
  {
   "cell_type": "code",
   "execution_count": null,
   "metadata": {
    "scrolled": true
   },
   "outputs": [],
   "source": [
    "columns=pd.DataFrame(dff.columns)\n",
    "columns"
   ]
  },
  {
   "cell_type": "code",
   "execution_count": null,
   "metadata": {
    "scrolled": true
   },
   "outputs": [],
   "source": [
    "#Puntaje \n",
    "import math\n",
    "dff['puntaje_g']= (resg.params[0]+ \\\n",
    "dff['END_DIF_ENT_TOTAL_U12M_binned_g']*resg.params[1]+ \\\n",
    "dff['END_VAR_SALDO_TOTAL_U12M_binned_g']*resg.params[2]+\\\n",
    "dff['END_ENT_SALDO_TOTAL_UM_binned_g']*resg.params[3]+\\\n",
    "dff['END_DIF_PORCEN_UTIL_LINEA_U12M_binned_g']*resg.params[4]+\\\n",
    "dff['END_NUM_INCREM_SALDO_TOTAL_U9M_binned_g']*resg.params[5]+\\\n",
    "dff['END_MAXSALDOTC_PROMLINEATC_U12M_binned_g']*resg.params[6]+\\\n",
    "dff['END_DEUACT_MAXDEU_TOTAL_U24M_binned_g']*resg.params[7]+\\\n",
    "dff['END_NUM_DECREM_SALDO_U24M_binned_g']*resg.params[8]+\\\n",
    "dff['END_ULTIMO_SOW_binned_g']*resg.params[9])*80/math.log(2)+ 600\n",
    "\n",
    "dff.puntaje_g.head()\n"
   ]
  },
  {
   "cell_type": "code",
   "execution_count": null,
   "metadata": {
    "scrolled": true
   },
   "outputs": [],
   "source": [
    "dff.id.value_counts()"
   ]
  },
  {
   "cell_type": "code",
   "execution_count": null,
   "metadata": {
    "scrolled": true
   },
   "outputs": [],
   "source": [
    "dff.columns"
   ]
  },
  {
   "cell_type": "code",
   "execution_count": null,
   "metadata": {
    "scrolled": true
   },
   "outputs": [],
   "source": [
    "#Exportando para creacion de segmentos\n",
    "import numpy as np\n",
    "col_names = {'count_nonzero': 'tasamalos', 'size': 'obs'}\n",
    "dff['bucket'] = pd.qcut(dff['puntaje_g'], 20 ,\\\n",
    "         duplicates='drop',retbins=True)[0]\n",
    "\n",
    "seg=dff[dff['id']!=2].groupby('bucket')['id']\\\n",
    ".agg([np.mean, np.count_nonzero, np.size]).rename(columns=col_names)\n",
    "\n",
    "#seg['total']=analisis1.groupby('bucket').apply(lambda x: x[x['id'] != 2]['id'].sum())\n",
    "\n",
    "seg['total']=dff.groupby('bucket')['id'].agg([np.size])\n",
    "\n",
    "seg=pd.concat([seg,dff.groupby('bucket')\\\n",
    "               [['nsalven','ncapdes']]\\\n",
    "               .agg([\"sum\"])],axis=1)\n",
    "    \n",
    "seg"
   ]
  },
  {
   "cell_type": "code",
   "execution_count": null,
   "metadata": {
    "scrolled": true
   },
   "outputs": [],
   "source": [
    "\n",
    "gc.collect()"
   ]
  },
  {
   "cell_type": "markdown",
   "metadata": {},
   "source": [
    "# Pivot Table "
   ]
  },
  {
   "cell_type": "code",
   "execution_count": null,
   "metadata": {
    "scrolled": false
   },
   "outputs": [],
   "source": [
    "from pivottablejs import pivot_ui"
   ]
  },
  {
   "cell_type": "code",
   "execution_count": null,
   "metadata": {
    "scrolled": false
   },
   "outputs": [],
   "source": [
    "pivot_ui(seg)"
   ]
  },
  {
   "cell_type": "markdown",
   "metadata": {},
   "source": [
    "# Segmentando Score Originacion"
   ]
  },
  {
   "cell_type": "code",
   "execution_count": null,
   "metadata": {
    "scrolled": true
   },
   "outputs": [],
   "source": [
    "dff['score_originacion'] = np.select(\n",
    "    [\n",
    "        dff['puntaje_g'].between(0, 700.173, inclusive=False), \n",
    "        dff['puntaje_g'].between(700.173, 755.244, inclusive=True),\n",
    "        dff['puntaje_g'].between(755.244,802.142, inclusive=True),\n",
    "        dff['puntaje_g'].between(802.142, 853.561,inclusive=True),\n",
    "        dff['puntaje_g'].between(853.561,9999, inclusive=True)\n",
    "    ], \n",
    "    [\n",
    "        'MuyAlto', \n",
    "        'Alto',\n",
    "        'Medio',\n",
    "        'Bajo',\n",
    "        'MuyBajo'\n",
    "    ], \n",
    "    default='Error'\n",
    ")"
   ]
  },
  {
   "cell_type": "code",
   "execution_count": null,
   "metadata": {},
   "outputs": [],
   "source": [
    "gc.collect()"
   ]
  },
  {
   "cell_type": "markdown",
   "metadata": {},
   "source": [
    "# Cruce Score Seguimiento"
   ]
  },
  {
   "cell_type": "code",
   "execution_count": null,
   "metadata": {
    "scrolled": true
   },
   "outputs": [],
   "source": [
    "f=\"select   cCodSol,score_seguimiento from bdrie.dbo.ori3_scoresegui \"\n",
    "sql_con = pyodbc.connect('driver={SQL Server};SERVER=OF00SRVBDH;Trusted_Connection=True;DATABASE=BDRIE')\n",
    "chunk_segui  = pd.read_sql(f, sql_con)"
   ]
  },
  {
   "cell_type": "code",
   "execution_count": null,
   "metadata": {
    "scrolled": true
   },
   "outputs": [],
   "source": [
    "chunk_segui.head()"
   ]
  },
  {
   "cell_type": "code",
   "execution_count": null,
   "metadata": {
    "scrolled": true
   },
   "outputs": [],
   "source": [
    "#chunk_segui['score_seguimiento'].unique()\n",
    "sum(chunk_segui['score_seguimiento'].isnull())"
   ]
  },
  {
   "cell_type": "code",
   "execution_count": null,
   "metadata": {
    "scrolled": true
   },
   "outputs": [],
   "source": [
    "len(chunk_segui)"
   ]
  },
  {
   "cell_type": "code",
   "execution_count": null,
   "metadata": {
    "scrolled": true
   },
   "outputs": [],
   "source": [
    "len(dff)"
   ]
  },
  {
   "cell_type": "code",
   "execution_count": null,
   "metadata": {
    "scrolled": true
   },
   "outputs": [],
   "source": [
    "chunk_segui['score_seguimiento'].value_counts()"
   ]
  },
  {
   "cell_type": "code",
   "execution_count": null,
   "metadata": {
    "scrolled": true
   },
   "outputs": [],
   "source": [
    "chunk_segui['cCodSol']=chunk_segui['cCodSol'].astype(float)"
   ]
  },
  {
   "cell_type": "code",
   "execution_count": null,
   "metadata": {
    "scrolled": true
   },
   "outputs": [],
   "source": [
    "dff=dff.merge(chunk_segui,how='left',on='cCodSol')"
   ]
  },
  {
   "cell_type": "code",
   "execution_count": null,
   "metadata": {
    "scrolled": true
   },
   "outputs": [],
   "source": [
    "#dff=dff.drop(['score_seguimiento'],axis=1)"
   ]
  },
  {
   "cell_type": "code",
   "execution_count": null,
   "metadata": {
    "scrolled": true
   },
   "outputs": [],
   "source": [
    "dff.columns"
   ]
  },
  {
   "cell_type": "code",
   "execution_count": null,
   "metadata": {
    "scrolled": true
   },
   "outputs": [],
   "source": [
    "len(dff[dff['cTipCre']=='R'])"
   ]
  },
  {
   "cell_type": "code",
   "execution_count": null,
   "metadata": {
    "scrolled": true
   },
   "outputs": [],
   "source": [
    "dff['score_seguimiento'].value_counts()"
   ]
  },
  {
   "cell_type": "code",
   "execution_count": null,
   "metadata": {
    "scrolled": true
   },
   "outputs": [],
   "source": [
    "dff['score_originacion'].value_counts()"
   ]
  },
  {
   "cell_type": "code",
   "execution_count": null,
   "metadata": {
    "scrolled": true
   },
   "outputs": [],
   "source": [
    "len(dff)"
   ]
  },
  {
   "cell_type": "code",
   "execution_count": null,
   "metadata": {
    "scrolled": true
   },
   "outputs": [],
   "source": [
    "#analisis=dff.groupby(['dfecrep','producto','cTipCre','score_originacion','score_seguimiento']).agg([np.size])['cCodSol']\n",
    "dff['score_seguimiento'] = dff['score_seguimiento'].astype(str) #Debido  a que hay NULL\n",
    "analisis=dff.groupby(['dfecrep','producto','cTipCre','score_originacion','score_seguimiento']).agg([np.size])['cCodSol']\n",
    "#sum(analisis['size'])\n",
    "analisis2=dff.groupby(['dfecrep','producto','cTipCre','score_originacion','score_seguimiento']).agg([np.sum])[['nsalven','ncapdes']]\n",
    "analisis=analisis.join(analisis2,how='left')\n",
    "analisis=analisis.reset_index()\n",
    "save_xls([analisis],'comparacionscore.xlsx')"
   ]
  },
  {
   "cell_type": "code",
   "execution_count": null,
   "metadata": {
    "scrolled": true
   },
   "outputs": [],
   "source": [
    "len(dff[(dff['score_seguimiento')&(dff['cTipCre']=='R')&]=='None']['cCodSol'])"
   ]
  },
  {
   "cell_type": "code",
   "execution_count": null,
   "metadata": {
    "scrolled": true
   },
   "outputs": [],
   "source": [
    "max(dff['dFecSol'])"
   ]
  },
  {
   "cell_type": "code",
   "execution_count": null,
   "metadata": {
    "scrolled": true
   },
   "outputs": [],
   "source": [
    "dff.groupby(['score_seguimiento'])['cCodSol'].agg(['count'])"
   ]
  },
  {
   "cell_type": "code",
   "execution_count": null,
   "metadata": {
    "scrolled": true
   },
   "outputs": [],
   "source": [
    "dff.id.unique()"
   ]
  },
  {
   "cell_type": "markdown",
   "metadata": {},
   "source": [
    "Exportacion"
   ]
  },
  {
   "cell_type": "code",
   "execution_count": null,
   "metadata": {},
   "outputs": [],
   "source": [
    "dff[['cCodSol','cCodCta','cCodCli','score_originacion','score_seguimiento','nsalven','ncapdes']].to_csv('exportacion.csv')"
   ]
  },
  {
   "cell_type": "code",
   "execution_count": null,
   "metadata": {},
   "outputs": [],
   "source": [
    "#Cleaning All\n",
    "import sys\n",
    "sys.modules[__name__].__dict__.clear()"
   ]
  },
  {
   "cell_type": "markdown",
   "metadata": {},
   "source": [
    "# Deep Learning (Benchmark)"
   ]
  },
  {
   "cell_type": "code",
   "execution_count": null,
   "metadata": {
    "scrolled": false
   },
   "outputs": [],
   "source": [
    "from keras.models import Sequential\n",
    "from keras.layers import Dense, Activation,Dropout"
   ]
  },
  {
   "cell_type": "code",
   "execution_count": 21,
   "metadata": {},
   "outputs": [],
   "source": [
    "import pickle\n",
    "x_train =  pickle.load(open('x_train.pkl', 'rb'))\n",
    "y_train =  pickle.load(open('y_train.pkl', 'rb'))\n",
    "x_test =  pickle.load(open('x_test.pkl', 'rb'))\n",
    "y_test =  pickle.load(open('y_test.pkl', 'rb'))"
   ]
  },
  {
   "cell_type": "code",
   "execution_count": null,
   "metadata": {
    "scrolled": false
   },
   "outputs": [],
   "source": [
    "import pandas as pd\n",
    "#################################################Balancing Data#########################################\n",
    "dff=pd.concat([x_train,y_train],axis=1)\n",
    "\n",
    "\n",
    "from sklearn.utils import resample\n",
    "\n",
    "# Separate majority and minority classes\n",
    "df_majority = dff[dff.id==0]\n",
    "df_minority = dff[dff.id==1]\n",
    "\n",
    "#len(df_majority)\n",
    " \n",
    "# Upsample minority class\n",
    "df_minority_upsampled = resample(df_minority, \n",
    "                                 replace=True,     # sample with replacement\n",
    "                                 n_samples=len(df_majority),    # to match majority class\n",
    "                                 random_state=123) # reproducible results\n",
    " \n",
    "# Combine majority class with upsampled minority class\n",
    "df_upsampled = pd.concat([df_majority, df_minority_upsampled])\n",
    " \n",
    "# Display new class counts\n",
    "df_upsampled.id.value_counts()\n",
    "# 1    576\n",
    "# 0    576\n",
    "# Name: balance, dtype: int64\n"
   ]
  },
  {
   "cell_type": "code",
   "execution_count": null,
   "metadata": {
    "scrolled": false
   },
   "outputs": [],
   "source": [
    "y_traind=df_upsampled['id']\n",
    "x_traind=df_upsampled.iloc[:,0 : df_upsampled.shape[1]-1]\n",
    "x_traind.columns"
   ]
  },
  {
   "cell_type": "code",
   "execution_count": null,
   "metadata": {
    "scrolled": false
   },
   "outputs": [],
   "source": [
    "print(x_traind.shape)"
   ]
  },
  {
   "cell_type": "code",
   "execution_count": null,
   "metadata": {
    "scrolled": false
   },
   "outputs": [],
   "source": [
    "def build_model():\n",
    "    model = Sequential()\n",
    "    model.add(Dense(200, input_dim=x_traind.shape[1]))\n",
    "    model.add(Activation('sigmoid'))\n",
    "    model.add(Dropout(0.2))\n",
    "    model.add(Dense(200))\n",
    "    model.add(Activation('sigmoid'))\n",
    "    model.add(Dropout(0.2))\n",
    "    model.add(Dense(200))\n",
    "    model.add(Activation('sigmoid'))\n",
    "    model.add(Dropout(0.2))\n",
    "    model.add(Dense(200))\n",
    "    model.add(Activation('sigmoid'))\n",
    "    model.add(Dropout(0.2))\n",
    "    model.add(Dense(200))\n",
    "    model.add(Activation('sigmoid'))\n",
    "    model.add(Dropout(0.2))\n",
    "    model.add(Dense(200))\n",
    "    model.add(Activation('sigmoid'))\n",
    "    model.add(Dropout(0.2))\n",
    "    model.add(Dense(200))    \n",
    "    model.add(Activation('sigmoid'))\n",
    "    model.add(Dense(1))\n",
    "    model.add(Activation('sigmoid'))\n",
    "    model.compile(optimizer='adam',\n",
    "              loss='binary_crossentropy',\n",
    "              metrics=['accuracy'])\n",
    "    return model\n"
   ]
  },
  {
   "cell_type": "code",
   "execution_count": null,
   "metadata": {
    "scrolled": false
   },
   "outputs": [],
   "source": [
    "#model.fit(x_traind, y_traind, epochs=10,batch_size=36)\n",
    "from keras.wrappers.scikit_learn import KerasClassifier\n",
    "keras_model = build_model()\n",
    "#keras_model.fit(x_traind, y_traind, epochs=10, batch_size=36, verbose=1)\n",
    "history = keras_model.fit(x_traind, y_traind, epochs=10, batch_size=18, verbose=2)\n",
    "#history = keras_model.fit(x_traind, y_traind, validation_split=0.33, epochs=10, batch_size=18, verbose=0)\n",
    "# list all data in history\n"
   ]
  },
  {
   "cell_type": "code",
   "execution_count": 18,
   "metadata": {
    "scrolled": true
   },
   "outputs": [
    {
     "data": {
      "image/png": "[encoded data removed]",
      "text/plain": [
       "<Figure size 432x288 with 1 Axes>"
      ]
     },
     "metadata": {},
     "output_type": "display_data"
    },
    {
     "data": {
      "image/png": "[encoded data removed]",
      "text/plain": [
       "<Figure size 432x288 with 1 Axes>"
      ]
     },
     "metadata": {},
     "output_type": "display_data"
    }
   ],
   "source": [
    "import matplotlib.pyplot as plt\n",
    "#print(history.history.keys())\n",
    "\n",
    "plt.plot(history.history['acc'])\n",
    "#plt.plot(history.history['val_acc'])\n",
    "plt.title('model accuracy')\n",
    "plt.ylabel('accuracy')\n",
    "plt.xlabel('epoch')\n",
    "plt.legend(['train', 'test'], loc='upper left')\n",
    "plt.show()\n",
    "# summarize history for loss\n",
    "plt.plot(history.history['loss'])\n",
    "#plt.plot(history.history['val_loss'])\n",
    "plt.title('model loss')\n",
    "plt.ylabel('loss')\n",
    "plt.xlabel('epoch')\n",
    "plt.legend(['train', 'test'], loc='upper left')\n",
    "plt.show()"
   ]
  },
  {
   "cell_type": "code",
   "execution_count": 19,
   "metadata": {
    "scrolled": false
   },
   "outputs": [
    {
     "name": "stdout",
     "output_type": "stream",
     "text": [
      "_________________________________________________________________\n",
      "Layer (type)                 Output Shape              Param #   \n",
      "=================================================================\n",
      "dense_2 (Dense)              (None, 200)               13200     \n",
      "_________________________________________________________________\n",
      "activation_2 (Activation)    (None, 200)               0         \n",
      "_________________________________________________________________\n",
      "dropout_1 (Dropout)          (None, 200)               0         \n",
      "_________________________________________________________________\n",
      "dense_3 (Dense)              (None, 200)               40200     \n",
      "_________________________________________________________________\n",
      "activation_3 (Activation)    (None, 200)               0         \n",
      "_________________________________________________________________\n",
      "dropout_2 (Dropout)          (None, 200)               0         \n",
      "_________________________________________________________________\n",
      "dense_4 (Dense)              (None, 200)               40200     \n",
      "_________________________________________________________________\n",
      "activation_4 (Activation)    (None, 200)               0         \n",
      "_________________________________________________________________\n",
      "dropout_3 (Dropout)          (None, 200)               0         \n",
      "_________________________________________________________________\n",
      "dense_5 (Dense)              (None, 200)               40200     \n",
      "_________________________________________________________________\n",
      "activation_5 (Activation)    (None, 200)               0         \n",
      "_________________________________________________________________\n",
      "dropout_4 (Dropout)          (None, 200)               0         \n",
      "_________________________________________________________________\n",
      "dense_6 (Dense)              (None, 200)               40200     \n",
      "_________________________________________________________________\n",
      "activation_6 (Activation)    (None, 200)               0         \n",
      "_________________________________________________________________\n",
      "dropout_5 (Dropout)          (None, 200)               0         \n",
      "_________________________________________________________________\n",
      "dense_7 (Dense)              (None, 200)               40200     \n",
      "_________________________________________________________________\n",
      "activation_7 (Activation)    (None, 200)               0         \n",
      "_________________________________________________________________\n",
      "dropout_6 (Dropout)          (None, 200)               0         \n",
      "_________________________________________________________________\n",
      "dense_8 (Dense)              (None, 200)               40200     \n",
      "_________________________________________________________________\n",
      "activation_8 (Activation)    (None, 200)               0         \n",
      "_________________________________________________________________\n",
      "dense_9 (Dense)              (None, 1)                 201       \n",
      "_________________________________________________________________\n",
      "activation_9 (Activation)    (None, 1)                 0         \n",
      "=================================================================\n",
      "Total params: 254,601\n",
      "Trainable params: 254,601\n",
      "Non-trainable params: 0\n",
      "_________________________________________________________________\n"
     ]
    }
   ],
   "source": [
    "keras_model.summary()"
   ]
  },
  {
   "cell_type": "code",
   "execution_count": 42,
   "metadata": {
    "scrolled": false
   },
   "outputs": [
    {
     "name": "stdout",
     "output_type": "stream",
     "text": [
      "54201/54201 [==============================] - 10s 178us/step\n"
     ]
    },
    {
     "data": {
      "text/plain": [
       "0.5851183557410964"
      ]
     },
     "execution_count": 42,
     "metadata": {},
     "output_type": "execute_result"
    }
   ],
   "source": [
    "score = keras_model.evaluate(x_test, y_test)\n",
    "score[1]"
   ]
  },
  {
   "cell_type": "code",
   "execution_count": 43,
   "metadata": {
    "scrolled": false
   },
   "outputs": [],
   "source": [
    "#from sklearn.metrics import roc_curve\n",
    "#y_pred_keras = model.predict(y_test).ravel()\n",
    "#fpr_keras, tpr_keras, thresholds_keras = roc_curve(y_test, y_pred_keras)\n",
    "\n",
    "from sklearn.metrics import roc_curve\n",
    "y_pred_keras = keras_model.predict(x_test).ravel()\n",
    "fpr_keras, tpr_keras, thresholds_keras = roc_curve(y_test, y_pred_keras)"
   ]
  },
  {
   "cell_type": "code",
   "execution_count": 44,
   "metadata": {
    "scrolled": true
   },
   "outputs": [
    {
     "name": "stdout",
     "output_type": "stream",
     "text": [
      "AUC : 0.677272288127009\n",
      "Gini : 0.35454457625401803\n"
     ]
    }
   ],
   "source": [
    "from sklearn.metrics import auc\n",
    "auc_keras = auc(fpr_keras, tpr_keras)\n",
    "print('AUC :',auc_keras)\n",
    "print('Gini :',auc_keras*2-1)"
   ]
  },
  {
   "cell_type": "code",
   "execution_count": 26,
   "metadata": {
    "scrolled": false
   },
   "outputs": [
    {
     "name": "stdout",
     "output_type": "stream",
     "text": [
      "Optimization terminated successfully.\n",
      "         Current function value: 0.644854\n",
      "         Iterations 5\n",
      "(208800, 65)\n",
      "(54201, 65)\n"
     ]
    }
   ],
   "source": [
    "import statsmodels.api as sm\n",
    "#from sklearn.linear_model import LogisticRegresssion\n",
    "# Supervised transformation based on random forests\n",
    "#rf = LogisticRegresssion()\n",
    "#rf.fit(x_train, y_train)\n",
    "rf = sm.Logit(y_traind,x_traind)\n",
    "rf = rf.fit()\n",
    "#print(rf.summary())\n",
    "\n",
    "print(x_traind.shape)\n",
    "sm.add_constant(x_test)\n",
    "print(x_test.shape)\n",
    "y_pred_rf = rf.predict(x_test)\n",
    "fpr_rf, tpr_rf, thresholds_rf = roc_curve(y_test, y_pred_rf)\n",
    "auc_rf = auc(fpr_rf, tpr_rf)\n",
    "#print(x_train.columns)\n",
    "#print(x_test.columns)\n"
   ]
  },
  {
   "cell_type": "code",
   "execution_count": 45,
   "metadata": {
    "scrolled": false
   },
   "outputs": [
    {
     "data": {
      "image/png": "[encoded data removed]",
      "text/plain": [
       "<Figure size 432x288 with 1 Axes>"
      ]
     },
     "metadata": {},
     "output_type": "display_data"
    }
   ],
   "source": [
    "import matplotlib.pyplot as plt\n",
    "plt.figure(1)\n",
    "plt.plot([0, 1], [0, 1], 'k--')\n",
    "plt.plot(fpr_keras, tpr_keras, label='Keras (area = {:.3f})'.format(auc_keras))\n",
    "plt.plot(fpr_rf, tpr_rf, label='RF (area = {:.3f})'.format(auc_rf))\n",
    "plt.xlabel('False positive rate')\n",
    "plt.ylabel('True positive rate')\n",
    "plt.title('ROC curve')\n",
    "plt.legend(loc='best')\n",
    "plt.show()\n",
    "\n"
   ]
  },
  {
   "cell_type": "markdown",
   "metadata": {},
   "source": [
    "# XgBoost"
   ]
  },
  {
   "cell_type": "code",
   "execution_count": 31,
   "metadata": {},
   "outputs": [],
   "source": [
    "import xgboost as xgb"
   ]
  },
  {
   "cell_type": "code",
   "execution_count": 36,
   "metadata": {},
   "outputs": [
    {
     "name": "stderr",
     "output_type": "stream",
     "text": [
      "C:\\ProgramData\\Anaconda3\\lib\\site-packages\\xgboost\\core.py:587: FutureWarning: Series.base is deprecated and will be removed in a future version\n",
      "  if getattr(data, 'base', None) is not None and \\\n",
      "C:\\ProgramData\\Anaconda3\\lib\\site-packages\\xgboost\\core.py:588: FutureWarning: Series.base is deprecated and will be removed in a future version\n",
      "  data.base is not None and isinstance(data, np.ndarray) \\\n"
     ]
    }
   ],
   "source": [
    "data_dmatrix = xgb.DMatrix(data=x_traind,label=y_traind)"
   ]
  },
  {
   "cell_type": "code",
   "execution_count": 77,
   "metadata": {},
   "outputs": [],
   "source": [
    "xg_reg = xgb.XGBRegressor(objective ='reg:logistic', colsample_bytree = 0.3, learning_rate = 0.1,\n",
    "                max_depth = 10, alpha = 10, n_estimators = 10)"
   ]
  },
  {
   "cell_type": "code",
   "execution_count": 79,
   "metadata": {
    "scrolled": true
   },
   "outputs": [
    {
     "name": "stderr",
     "output_type": "stream",
     "text": [
      "C:\\ProgramData\\Anaconda3\\lib\\site-packages\\xgboost\\core.py:587: FutureWarning: Series.base is deprecated and will be removed in a future version\n",
      "  if getattr(data, 'base', None) is not None and \\\n",
      "C:\\ProgramData\\Anaconda3\\lib\\site-packages\\xgboost\\core.py:588: FutureWarning: Series.base is deprecated and will be removed in a future version\n",
      "  data.base is not None and isinstance(data, np.ndarray) \\\n"
     ]
    },
    {
     "data": {
      "text/plain": [
       "XGBRegressor(alpha=10, base_score=0.5, booster='gbtree', colsample_bylevel=1,\n",
       "             colsample_bynode=1, colsample_bytree=0.3, gamma=0,\n",
       "             importance_type='gain', learning_rate=0.1, max_delta_step=0,\n",
       "             max_depth=10, min_child_weight=1, missing=None, n_estimators=10,\n",
       "             n_jobs=1, nthread=None, objective='reg:logistic', random_state=0,\n",
       "             reg_alpha=0, reg_lambda=1, scale_pos_weight=1, seed=None,\n",
       "             silent=None, subsample=1, verbosity=1)"
      ]
     },
     "execution_count": 79,
     "metadata": {},
     "output_type": "execute_result"
    }
   ],
   "source": [
    "xg_reg.fit(x_traind,y_traind)"
   ]
  },
  {
   "cell_type": "code",
   "execution_count": 80,
   "metadata": {
    "scrolled": true
   },
   "outputs": [],
   "source": [
    "preds = xg_reg.predict(x_test)"
   ]
  },
  {
   "cell_type": "code",
   "execution_count": 81,
   "metadata": {},
   "outputs": [
    {
     "name": "stdout",
     "output_type": "stream",
     "text": [
      "AUC : 0.6751678108574061\n",
      "Gini : 0.35033562171481214\n"
     ]
    }
   ],
   "source": [
    "from sklearn.metrics import roc_curve\n",
    "fpr_boost, tpr_boost, thresholds_boost = roc_curve(y_test, preds)\n",
    "auc_boost = auc(fpr_boost, tpr_boost)\n",
    "print('AUC :',auc_boost)\n",
    "print('Gini :',auc_boost*2-1)"
   ]
  },
  {
   "cell_type": "code",
   "execution_count": 85,
   "metadata": {},
   "outputs": [
    {
     "data": {
      "image/png": "[encoded data removed]",
      "text/plain": [
       "<Figure size 360x360 with 1 Axes>"
      ]
     },
     "metadata": {},
     "output_type": "display_data"
    }
   ],
   "source": [
    "import matplotlib.pyplot as plt\n",
    "plt.rcParams['figure.figsize'] = [5, 5]\n",
    "plt.figure(1)\n",
    "plt.plot([0, 1], [0, 1], 'k--')\n",
    "plt.plot(fpr_keras, tpr_keras, label='Keras (area = {:.3f})'.format(auc_keras))\n",
    "plt.plot(fpr_rf, tpr_rf, label='RF (area = {:.3f})'.format(auc_rf))\n",
    "plt.plot(fpr_boost, tpr_boost, label='XGBoost (area = {:.3f})'.format(auc_boost))\n",
    "plt.xlabel('False positive rate')\n",
    "plt.ylabel('True positive rate')\n",
    "plt.title('ROC curve')\n",
    "plt.legend(loc='best')\n",
    "plt.show()\n"
   ]
  },
  {
   "cell_type": "code",
   "execution_count": 92,
   "metadata": {},
   "outputs": [
    {
     "data": {
      "image/png": "[encoded data removed]",
      "text/plain": [
       "<Figure size 216x864 with 1 Axes>"
      ]
     },
     "metadata": {},
     "output_type": "display_data"
    }
   ],
   "source": [
    "#import matplotlib.pyplot as plt\n",
    "\n",
    "#xgb.plot_tree(xg_reg,num_trees=0)\n",
    "#plt.rcParams['figure.figsize'] = [50, 10]\n",
    "#plt.show()\n",
    "\n",
    "xgb.plot_importance(xg_reg)\n",
    "plt.rcParams['figure.figsize'] = [3, 15]\n",
    "plt.show()"
   ]
  },
  {
   "cell_type": "code",
   "execution_count": null,
   "metadata": {},
   "outputs": [],
   "source": []
  }
 ],
 "metadata": {
  "kernelspec": {
   "display_name": "Python 3",
   "language": "python",
   "name": "python3"
  },
  "language_info": {
   "codemirror_mode": {
    "name": "ipython",
    "version": 3
   },
   "file_extension": ".py",
   "mimetype": "text/x-python",
   "name": "python",
   "nbconvert_exporter": "python",
   "pygments_lexer": "ipython3",
   "version": "3.6.5"
  }
 },
 "nbformat": 4,
 "nbformat_minor": 2
}
