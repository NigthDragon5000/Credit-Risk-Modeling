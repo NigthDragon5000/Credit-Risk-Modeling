{
 "cells": [
  {
   "cell_type": "markdown",
   "id": "383d5443-f4ac-4f41-830c-070b543f1be8",
   "metadata": {},
   "source": [
    "# Modelo Ejemplo"
   ]
  },
  {
   "cell_type": "code",
   "execution_count": 1,
   "id": "dcb1186b-9553-4a9b-9130-32b7bab36346",
   "metadata": {},
   "outputs": [
    {
     "name": "stdout",
     "output_type": "stream",
     "text": [
      "Current Python Version- 3.6.13\n"
     ]
    }
   ],
   "source": [
    "from platform import python_version\n",
    "  \n",
    "  \n",
    "print(\"Current Python Version-\", python_version())"
   ]
  },
  {
   "cell_type": "code",
   "execution_count": 2,
   "id": "1607793c-0b7d-4a3e-ae3e-37e48f78f2a0",
   "metadata": {
    "tags": []
   },
   "outputs": [],
   "source": [
    "#!pip install statsmodels\n",
    "#!pip install matplotlib"
   ]
  },
  {
   "cell_type": "code",
   "execution_count": 51,
   "id": "6e622c5b-634f-4eb6-8adf-df96236115af",
   "metadata": {},
   "outputs": [],
   "source": [
    "import pandas as pd\n",
    "import numpy as np\n",
    "import matplotlib.pyplot as plt\n",
    "import pmdarima as pm\n",
    "from statsmodels.tsa.seasonal import seasonal_decompose\n",
    "from dateutil.parser import parse\n",
    "import statsmodels.api as sm\n",
    "from statsmodels.tsa.stattools import acf\n",
    "from statsmodels.tsa.stattools import pacf"
   ]
  },
  {
   "cell_type": "code",
   "execution_count": 4,
   "id": "3f38f108-becb-426c-917c-63a74102b210",
   "metadata": {},
   "outputs": [],
   "source": [
    "# Import Data\n",
    "data = pd.read_csv('https://raw.githubusercontent.com/selva86/datasets/master/a10.csv', parse_dates=['date'], index_col='date')"
   ]
  },
  {
   "cell_type": "code",
   "execution_count": 5,
   "id": "2676d0a8-c9cd-4bb3-b9a7-2652aedb9d1b",
   "metadata": {},
   "outputs": [],
   "source": [
    "#Compute Seasonal Index\n",
    "\n",
    "# multiplicative seasonal component\n",
    "result_mul = seasonal_decompose(data['value'][-36:],   # 3 years\n",
    "                                model='multiplicative', \n",
    "                                extrapolate_trend='freq')\n",
    "\n",
    "seasonal_index = result_mul.seasonal[-12:].to_frame()\n",
    "seasonal_index['month'] = pd.to_datetime(seasonal_index.index).month\n",
    "\n",
    "# merge with the base data\n",
    "data['month'] = data.index.month\n",
    "df = pd.merge(data, seasonal_index, how='left', on='month')\n",
    "df.columns = ['value', 'month', 'seasonal_index']\n",
    "df.index = data.index  # reassign the index."
   ]
  },
  {
   "cell_type": "code",
   "execution_count": 6,
   "id": "ce8ea8cf-21f9-47d4-bd92-2dec452b0fcb",
   "metadata": {},
   "outputs": [
    {
     "data": {
      "text/html": [
       "<div>\n",
       "<style scoped>\n",
       "    .dataframe tbody tr th:only-of-type {\n",
       "        vertical-align: middle;\n",
       "    }\n",
       "\n",
       "    .dataframe tbody tr th {\n",
       "        vertical-align: top;\n",
       "    }\n",
       "\n",
       "    .dataframe thead th {\n",
       "        text-align: right;\n",
       "    }\n",
       "</style>\n",
       "<table border=\"1\" class=\"dataframe\">\n",
       "  <thead>\n",
       "    <tr style=\"text-align: right;\">\n",
       "      <th></th>\n",
       "      <th>value</th>\n",
       "      <th>month</th>\n",
       "      <th>seasonal_index</th>\n",
       "    </tr>\n",
       "    <tr>\n",
       "      <th>date</th>\n",
       "      <th></th>\n",
       "      <th></th>\n",
       "      <th></th>\n",
       "    </tr>\n",
       "  </thead>\n",
       "  <tbody>\n",
       "    <tr>\n",
       "      <th>1991-07-01</th>\n",
       "      <td>3.526591</td>\n",
       "      <td>7</td>\n",
       "      <td>0.970490</td>\n",
       "    </tr>\n",
       "    <tr>\n",
       "      <th>1991-08-01</th>\n",
       "      <td>3.180891</td>\n",
       "      <td>8</td>\n",
       "      <td>1.050900</td>\n",
       "    </tr>\n",
       "    <tr>\n",
       "      <th>1991-09-01</th>\n",
       "      <td>3.252221</td>\n",
       "      <td>9</td>\n",
       "      <td>0.998881</td>\n",
       "    </tr>\n",
       "    <tr>\n",
       "      <th>1991-10-01</th>\n",
       "      <td>3.611003</td>\n",
       "      <td>10</td>\n",
       "      <td>1.059657</td>\n",
       "    </tr>\n",
       "    <tr>\n",
       "      <th>1991-11-01</th>\n",
       "      <td>3.565869</td>\n",
       "      <td>11</td>\n",
       "      <td>1.146141</td>\n",
       "    </tr>\n",
       "  </tbody>\n",
       "</table>\n",
       "</div>"
      ],
      "text/plain": [
       "               value  month  seasonal_index\n",
       "date                                       \n",
       "1991-07-01  3.526591      7        0.970490\n",
       "1991-08-01  3.180891      8        1.050900\n",
       "1991-09-01  3.252221      9        0.998881\n",
       "1991-10-01  3.611003     10        1.059657\n",
       "1991-11-01  3.565869     11        1.146141"
      ]
     },
     "execution_count": 6,
     "metadata": {},
     "output_type": "execute_result"
    }
   ],
   "source": [
    "df.head()"
   ]
  },
  {
   "cell_type": "code",
   "execution_count": 7,
   "id": "3b705ed9-bff1-4c92-8a74-b46f71e2a7fb",
   "metadata": {
    "tags": []
   },
   "outputs": [],
   "source": [
    "#!pip install pmdarima"
   ]
  },
  {
   "cell_type": "code",
   "execution_count": 8,
   "id": "f7d2cea7-6e3f-4349-9d88-676ba50c248d",
   "metadata": {},
   "outputs": [
    {
     "name": "stdout",
     "output_type": "stream",
     "text": [
      "Performing stepwise search to minimize aic\n",
      " ARIMA(1,0,1)(0,1,1)[12] intercept   : AIC=536.818, Time=0.86 sec\n",
      " ARIMA(0,0,0)(0,1,0)[12] intercept   : AIC=626.061, Time=0.02 sec\n",
      " ARIMA(1,0,0)(1,1,0)[12] intercept   : AIC=598.068, Time=0.36 sec\n",
      " ARIMA(0,0,1)(0,1,1)[12] intercept   : AIC=613.475, Time=0.27 sec\n",
      " ARIMA(0,0,0)(0,1,0)[12]             : AIC=759.274, Time=0.06 sec\n",
      " ARIMA(1,0,1)(0,1,0)[12] intercept   : AIC=561.407, Time=0.22 sec\n",
      " ARIMA(1,0,1)(1,1,1)[12] intercept   : AIC=inf, Time=1.55 sec\n",
      " ARIMA(1,0,1)(0,1,2)[12] intercept   : AIC=538.817, Time=3.07 sec\n",
      " ARIMA(1,0,1)(1,1,0)[12] intercept   : AIC=545.106, Time=0.96 sec\n",
      " ARIMA(1,0,1)(1,1,2)[12] intercept   : AIC=539.902, Time=4.20 sec\n",
      " ARIMA(1,0,0)(0,1,1)[12] intercept   : AIC=596.467, Time=0.27 sec\n",
      " ARIMA(2,0,1)(0,1,1)[12] intercept   : AIC=531.829, Time=0.88 sec\n",
      " ARIMA(2,0,1)(0,1,0)[12] intercept   : AIC=557.198, Time=0.26 sec\n",
      " ARIMA(2,0,1)(1,1,1)[12] intercept   : AIC=inf, Time=1.76 sec\n",
      " ARIMA(2,0,1)(0,1,2)[12] intercept   : AIC=533.168, Time=2.74 sec\n",
      " ARIMA(2,0,1)(1,1,0)[12] intercept   : AIC=536.757, Time=0.86 sec\n",
      " ARIMA(2,0,1)(1,1,2)[12] intercept   : AIC=inf, Time=5.01 sec\n",
      " ARIMA(2,0,0)(0,1,1)[12] intercept   : AIC=548.662, Time=0.34 sec\n",
      " ARIMA(3,0,1)(0,1,1)[12] intercept   : AIC=531.107, Time=0.83 sec\n",
      " ARIMA(3,0,1)(0,1,0)[12] intercept   : AIC=551.759, Time=0.42 sec\n",
      " ARIMA(3,0,1)(1,1,1)[12] intercept   : AIC=inf, Time=2.45 sec\n",
      " ARIMA(3,0,1)(0,1,2)[12] intercept   : AIC=532.574, Time=2.95 sec\n",
      " ARIMA(3,0,1)(1,1,0)[12] intercept   : AIC=536.621, Time=1.43 sec\n",
      " ARIMA(3,0,1)(1,1,2)[12] intercept   : AIC=inf, Time=5.32 sec\n",
      " ARIMA(3,0,0)(0,1,1)[12] intercept   : AIC=530.788, Time=0.60 sec\n",
      " ARIMA(3,0,0)(0,1,0)[12] intercept   : AIC=556.152, Time=0.23 sec\n",
      " ARIMA(3,0,0)(1,1,1)[12] intercept   : AIC=inf, Time=2.03 sec\n",
      " ARIMA(3,0,0)(0,1,2)[12] intercept   : AIC=531.704, Time=1.96 sec\n",
      " ARIMA(3,0,0)(1,1,0)[12] intercept   : AIC=535.856, Time=1.05 sec\n",
      " ARIMA(3,0,0)(1,1,2)[12] intercept   : AIC=inf, Time=5.02 sec\n",
      " ARIMA(3,0,0)(0,1,1)[12]             : AIC=534.348, Time=0.60 sec\n",
      "\n",
      "Best model:  ARIMA(3,0,0)(0,1,1)[12] intercept\n",
      "Total fit time: 48.615 seconds\n"
     ]
    },
    {
     "data": {
      "text/html": [
       "<table class=\"simpletable\">\n",
       "<caption>SARIMAX Results</caption>\n",
       "<tr>\n",
       "  <th>Dep. Variable:</th>                   <td>y</td>                <th>  No. Observations:  </th>    <td>204</td>  \n",
       "</tr>\n",
       "<tr>\n",
       "  <th>Model:</th>           <td>SARIMAX(3, 0, 0)x(0, 1, [1], 12)</td> <th>  Log Likelihood     </th> <td>-258.394</td>\n",
       "</tr>\n",
       "<tr>\n",
       "  <th>Date:</th>                    <td>Thu, 03 Feb 2022</td>         <th>  AIC                </th>  <td>530.788</td>\n",
       "</tr>\n",
       "<tr>\n",
       "  <th>Time:</th>                        <td>17:47:37</td>             <th>  BIC                </th>  <td>553.591</td>\n",
       "</tr>\n",
       "<tr>\n",
       "  <th>Sample:</th>                     <td>07-01-1991</td>            <th>  HQIC               </th>  <td>540.024</td>\n",
       "</tr>\n",
       "<tr>\n",
       "  <th></th>                           <td>- 06-01-2008</td>           <th>                     </th>     <td> </td>   \n",
       "</tr>\n",
       "<tr>\n",
       "  <th>Covariance Type:</th>                <td>opg</td>               <th>                     </th>     <td> </td>   \n",
       "</tr>\n",
       "</table>\n",
       "<table class=\"simpletable\">\n",
       "<tr>\n",
       "         <td></td>           <th>coef</th>     <th>std err</th>      <th>z</th>      <th>P>|z|</th>  <th>[0.025</th>    <th>0.975]</th>  \n",
       "</tr>\n",
       "<tr>\n",
       "  <th>intercept</th>      <td>    0.1638</td> <td>    0.097</td> <td>    1.686</td> <td> 0.092</td> <td>   -0.027</td> <td>    0.354</td>\n",
       "</tr>\n",
       "<tr>\n",
       "  <th>seasonal_index</th> <td> 3.634e-07</td> <td> 3.16e+05</td> <td> 1.15e-12</td> <td> 1.000</td> <td> -6.2e+05</td> <td>  6.2e+05</td>\n",
       "</tr>\n",
       "<tr>\n",
       "  <th>ar.L1</th>          <td>    0.0960</td> <td>    0.043</td> <td>    2.226</td> <td> 0.026</td> <td>    0.011</td> <td>    0.181</td>\n",
       "</tr>\n",
       "<tr>\n",
       "  <th>ar.L2</th>          <td>    0.4148</td> <td>    0.035</td> <td>   11.912</td> <td> 0.000</td> <td>    0.347</td> <td>    0.483</td>\n",
       "</tr>\n",
       "<tr>\n",
       "  <th>ar.L3</th>          <td>    0.3510</td> <td>    0.054</td> <td>    6.546</td> <td> 0.000</td> <td>    0.246</td> <td>    0.456</td>\n",
       "</tr>\n",
       "<tr>\n",
       "  <th>ma.S.L12</th>       <td>   -0.4627</td> <td>    0.058</td> <td>   -7.966</td> <td> 0.000</td> <td>   -0.577</td> <td>   -0.349</td>\n",
       "</tr>\n",
       "<tr>\n",
       "  <th>sigma2</th>         <td>    0.8470</td> <td>    0.057</td> <td>   14.911</td> <td> 0.000</td> <td>    0.736</td> <td>    0.958</td>\n",
       "</tr>\n",
       "</table>\n",
       "<table class=\"simpletable\">\n",
       "<tr>\n",
       "  <th>Ljung-Box (L1) (Q):</th>     <td>0.03</td>  <th>  Jarque-Bera (JB):  </th> <td>124.39</td>\n",
       "</tr>\n",
       "<tr>\n",
       "  <th>Prob(Q):</th>                <td>0.86</td>  <th>  Prob(JB):          </th>  <td>0.00</td> \n",
       "</tr>\n",
       "<tr>\n",
       "  <th>Heteroskedasticity (H):</th> <td>12.65</td> <th>  Skew:              </th>  <td>0.30</td> \n",
       "</tr>\n",
       "<tr>\n",
       "  <th>Prob(H) (two-sided):</th>    <td>0.00</td>  <th>  Kurtosis:          </th>  <td>6.90</td> \n",
       "</tr>\n",
       "</table><br/><br/>Warnings:<br/>[1] Covariance matrix calculated using the outer product of gradients (complex-step).<br/>[2] Covariance matrix is singular or near-singular, with condition number 9.91e+14. Standard errors may be unstable."
      ],
      "text/plain": [
       "<class 'statsmodels.iolib.summary.Summary'>\n",
       "\"\"\"\n",
       "                                      SARIMAX Results                                       \n",
       "============================================================================================\n",
       "Dep. Variable:                                    y   No. Observations:                  204\n",
       "Model:             SARIMAX(3, 0, 0)x(0, 1, [1], 12)   Log Likelihood                -258.394\n",
       "Date:                              Thu, 03 Feb 2022   AIC                            530.788\n",
       "Time:                                      17:47:37   BIC                            553.591\n",
       "Sample:                                  07-01-1991   HQIC                           540.024\n",
       "                                       - 06-01-2008                                         \n",
       "Covariance Type:                                opg                                         \n",
       "==================================================================================\n",
       "                     coef    std err          z      P>|z|      [0.025      0.975]\n",
       "----------------------------------------------------------------------------------\n",
       "intercept          0.1638      0.097      1.686      0.092      -0.027       0.354\n",
       "seasonal_index  3.634e-07   3.16e+05   1.15e-12      1.000    -6.2e+05     6.2e+05\n",
       "ar.L1              0.0960      0.043      2.226      0.026       0.011       0.181\n",
       "ar.L2              0.4148      0.035     11.912      0.000       0.347       0.483\n",
       "ar.L3              0.3510      0.054      6.546      0.000       0.246       0.456\n",
       "ma.S.L12          -0.4627      0.058     -7.966      0.000      -0.577      -0.349\n",
       "sigma2             0.8470      0.057     14.911      0.000       0.736       0.958\n",
       "===================================================================================\n",
       "Ljung-Box (L1) (Q):                   0.03   Jarque-Bera (JB):               124.39\n",
       "Prob(Q):                              0.86   Prob(JB):                         0.00\n",
       "Heteroskedasticity (H):              12.65   Skew:                             0.30\n",
       "Prob(H) (two-sided):                  0.00   Kurtosis:                         6.90\n",
       "===================================================================================\n",
       "\n",
       "Warnings:\n",
       "[1] Covariance matrix calculated using the outer product of gradients (complex-step).\n",
       "[2] Covariance matrix is singular or near-singular, with condition number 9.91e+14. Standard errors may be unstable.\n",
       "\"\"\""
      ]
     },
     "execution_count": 8,
     "metadata": {},
     "output_type": "execute_result"
    }
   ],
   "source": [
    "\n",
    "\n",
    "# SARIMAX Model\n",
    "sxmodel = pm.auto_arima(df[['value']], exogenous=df[['seasonal_index']],\n",
    "                           start_p=1, start_q=1,\n",
    "                           test='adf',\n",
    "                           max_p=3, max_q=3, m=12,\n",
    "                           start_P=0, seasonal=True,\n",
    "                           d=None, D=1, trace=True, #\n",
    "                           error_action='ignore',  \n",
    "                           suppress_warnings=True, \n",
    "                           stepwise=True)\n",
    "\n",
    "sxmodel.summary()"
   ]
  },
  {
   "cell_type": "code",
   "execution_count": 9,
   "id": "11190f26-f718-45f8-8d4f-18d9a830a5ef",
   "metadata": {},
   "outputs": [
    {
     "data": {
      "text/plain": [
       "24"
      ]
     },
     "execution_count": 9,
     "metadata": {},
     "output_type": "execute_result"
    }
   ],
   "source": [
    "len(np.tile(seasonal_index['seasonal'].values,2).reshape(-1,1))"
   ]
  },
  {
   "cell_type": "code",
   "execution_count": 10,
   "id": "d26cd0e8-f5ed-4557-a9b7-439cfac452a5",
   "metadata": {},
   "outputs": [
    {
     "data": {
      "image/png": "[encoded data removed]",
      "text/plain": [
       "<Figure size 432x288 with 1 Axes>"
      ]
     },
     "metadata": {
      "needs_background": "light"
     },
     "output_type": "display_data"
    }
   ],
   "source": [
    "# Forecast\n",
    "n_periods = 24\n",
    "fitted, confint = sxmodel.predict(n_periods=n_periods, \n",
    "                                  exogenous= np.tile(seasonal_index['seasonal'].values,2).reshape(-1,1),\n",
    "                                  return_conf_int=True\n",
    "                                 )\n",
    "\n",
    "index_of_fc = pd.date_range(data.index[-1], periods = n_periods, freq='MS')\n",
    "\n",
    "# make series for plotting purpose\n",
    "fitted_series = pd.Series(fitted, index=index_of_fc)\n",
    "lower_series = pd.Series(confint[:, 0], index=index_of_fc)\n",
    "upper_series = pd.Series(confint[:, 1], index=index_of_fc)\n",
    "\n",
    "# Plot\n",
    "plt.plot(data['value'])\n",
    "plt.plot(fitted_series, color='darkgreen')\n",
    "plt.fill_between(lower_series.index, \n",
    "                 lower_series, \n",
    "                 upper_series, \n",
    "                 color='k', alpha=.15)\n",
    "\n",
    "plt.title(\"SARIMAX Forecast of a10 - Drug Sales\")\n",
    "plt.show()"
   ]
  },
  {
   "cell_type": "markdown",
   "id": "979c3d58-45e7-440d-81f2-0faa9482775e",
   "metadata": {},
   "source": [
    "# Modelo PBI"
   ]
  },
  {
   "cell_type": "markdown",
   "id": "7e89e9f8-5a0b-40d5-99ff-6cfe70016429",
   "metadata": {},
   "source": [
    "## Train Test"
   ]
  },
  {
   "cell_type": "code",
   "execution_count": 11,
   "id": "fea71cd3-06c5-4260-b5af-f6f2c18a0368",
   "metadata": {},
   "outputs": [],
   "source": [
    "#!pip install xlrd"
   ]
  },
  {
   "cell_type": "code",
   "execution_count": 12,
   "id": "67a39f37-acce-460c-9e87-8569aaac2829",
   "metadata": {},
   "outputs": [],
   "source": [
    "#import xlrd\n",
    "df = pd.read_csv(r'C:\\Users\\Jair\\series.csv', sep = ';')"
   ]
  },
  {
   "cell_type": "code",
   "execution_count": 13,
   "id": "357b9837-f9f9-49cb-9961-b99ed9ba02fa",
   "metadata": {},
   "outputs": [
    {
     "data": {
      "text/html": [
       "<div>\n",
       "<style scoped>\n",
       "    .dataframe tbody tr th:only-of-type {\n",
       "        vertical-align: middle;\n",
       "    }\n",
       "\n",
       "    .dataframe tbody tr th {\n",
       "        vertical-align: top;\n",
       "    }\n",
       "\n",
       "    .dataframe thead th {\n",
       "        text-align: right;\n",
       "    }\n",
       "</style>\n",
       "<table border=\"1\" class=\"dataframe\">\n",
       "  <thead>\n",
       "    <tr style=\"text-align: right;\">\n",
       "      <th></th>\n",
       "      <th>FECHA</th>\n",
       "      <th>MORA</th>\n",
       "      <th>PBI</th>\n",
       "      <th>Unnamed: 3</th>\n",
       "    </tr>\n",
       "  </thead>\n",
       "  <tbody>\n",
       "    <tr>\n",
       "      <th>0</th>\n",
       "      <td>1</td>\n",
       "      <td>3.2</td>\n",
       "      <td>1.0</td>\n",
       "      <td>NaN</td>\n",
       "    </tr>\n",
       "    <tr>\n",
       "      <th>1</th>\n",
       "      <td>2</td>\n",
       "      <td>3.6</td>\n",
       "      <td>1.0</td>\n",
       "      <td>NaN</td>\n",
       "    </tr>\n",
       "    <tr>\n",
       "      <th>2</th>\n",
       "      <td>3</td>\n",
       "      <td>3.7</td>\n",
       "      <td>1.0</td>\n",
       "      <td>NaN</td>\n",
       "    </tr>\n",
       "    <tr>\n",
       "      <th>3</th>\n",
       "      <td>4</td>\n",
       "      <td>3.9</td>\n",
       "      <td>2.0</td>\n",
       "      <td>NaN</td>\n",
       "    </tr>\n",
       "    <tr>\n",
       "      <th>4</th>\n",
       "      <td>5</td>\n",
       "      <td>2.7</td>\n",
       "      <td>3.0</td>\n",
       "      <td>NaN</td>\n",
       "    </tr>\n",
       "  </tbody>\n",
       "</table>\n",
       "</div>"
      ],
      "text/plain": [
       "   FECHA  MORA  PBI  Unnamed: 3\n",
       "0      1   3.2  1.0         NaN\n",
       "1      2   3.6  1.0         NaN\n",
       "2      3   3.7  1.0         NaN\n",
       "3      4   3.9  2.0         NaN\n",
       "4      5   2.7  3.0         NaN"
      ]
     },
     "execution_count": 13,
     "metadata": {},
     "output_type": "execute_result"
    }
   ],
   "source": [
    "df.head()"
   ]
  },
  {
   "cell_type": "code",
   "execution_count": 14,
   "id": "967a5481-3bb2-419f-b767-1bed9a541142",
   "metadata": {},
   "outputs": [],
   "source": [
    "#De preferencia debe seguir la regla 70 30 \n",
    "df_train= df[df['FECHA']<=15]\n",
    "df_test= df[df['FECHA']>15]"
   ]
  },
  {
   "cell_type": "code",
   "execution_count": 15,
   "id": "5e93f493-4a2b-4514-8192-a50b1946fff7",
   "metadata": {},
   "outputs": [
    {
     "data": {
      "text/html": [
       "<div>\n",
       "<style scoped>\n",
       "    .dataframe tbody tr th:only-of-type {\n",
       "        vertical-align: middle;\n",
       "    }\n",
       "\n",
       "    .dataframe tbody tr th {\n",
       "        vertical-align: top;\n",
       "    }\n",
       "\n",
       "    .dataframe thead th {\n",
       "        text-align: right;\n",
       "    }\n",
       "</style>\n",
       "<table border=\"1\" class=\"dataframe\">\n",
       "  <thead>\n",
       "    <tr style=\"text-align: right;\">\n",
       "      <th></th>\n",
       "      <th>FECHA</th>\n",
       "      <th>MORA</th>\n",
       "      <th>PBI</th>\n",
       "      <th>Unnamed: 3</th>\n",
       "    </tr>\n",
       "  </thead>\n",
       "  <tbody>\n",
       "    <tr>\n",
       "      <th>0</th>\n",
       "      <td>1</td>\n",
       "      <td>3.2</td>\n",
       "      <td>1.0</td>\n",
       "      <td>NaN</td>\n",
       "    </tr>\n",
       "    <tr>\n",
       "      <th>1</th>\n",
       "      <td>2</td>\n",
       "      <td>3.6</td>\n",
       "      <td>1.0</td>\n",
       "      <td>NaN</td>\n",
       "    </tr>\n",
       "    <tr>\n",
       "      <th>2</th>\n",
       "      <td>3</td>\n",
       "      <td>3.7</td>\n",
       "      <td>1.0</td>\n",
       "      <td>NaN</td>\n",
       "    </tr>\n",
       "    <tr>\n",
       "      <th>3</th>\n",
       "      <td>4</td>\n",
       "      <td>3.9</td>\n",
       "      <td>2.0</td>\n",
       "      <td>NaN</td>\n",
       "    </tr>\n",
       "    <tr>\n",
       "      <th>4</th>\n",
       "      <td>5</td>\n",
       "      <td>2.7</td>\n",
       "      <td>3.0</td>\n",
       "      <td>NaN</td>\n",
       "    </tr>\n",
       "    <tr>\n",
       "      <th>5</th>\n",
       "      <td>6</td>\n",
       "      <td>2.2</td>\n",
       "      <td>4.0</td>\n",
       "      <td>NaN</td>\n",
       "    </tr>\n",
       "    <tr>\n",
       "      <th>6</th>\n",
       "      <td>7</td>\n",
       "      <td>2.4</td>\n",
       "      <td>3.0</td>\n",
       "      <td>NaN</td>\n",
       "    </tr>\n",
       "    <tr>\n",
       "      <th>7</th>\n",
       "      <td>8</td>\n",
       "      <td>2.6</td>\n",
       "      <td>3.0</td>\n",
       "      <td>NaN</td>\n",
       "    </tr>\n",
       "    <tr>\n",
       "      <th>8</th>\n",
       "      <td>9</td>\n",
       "      <td>3.0</td>\n",
       "      <td>3.5</td>\n",
       "      <td>NaN</td>\n",
       "    </tr>\n",
       "    <tr>\n",
       "      <th>9</th>\n",
       "      <td>10</td>\n",
       "      <td>3.5</td>\n",
       "      <td>3.5</td>\n",
       "      <td>NaN</td>\n",
       "    </tr>\n",
       "    <tr>\n",
       "      <th>10</th>\n",
       "      <td>11</td>\n",
       "      <td>6.0</td>\n",
       "      <td>-7.0</td>\n",
       "      <td>NaN</td>\n",
       "    </tr>\n",
       "    <tr>\n",
       "      <th>11</th>\n",
       "      <td>12</td>\n",
       "      <td>7.0</td>\n",
       "      <td>-12.0</td>\n",
       "      <td>NaN</td>\n",
       "    </tr>\n",
       "    <tr>\n",
       "      <th>12</th>\n",
       "      <td>13</td>\n",
       "      <td>12.0</td>\n",
       "      <td>-11.0</td>\n",
       "      <td>NaN</td>\n",
       "    </tr>\n",
       "    <tr>\n",
       "      <th>13</th>\n",
       "      <td>14</td>\n",
       "      <td>10.0</td>\n",
       "      <td>-10.0</td>\n",
       "      <td>NaN</td>\n",
       "    </tr>\n",
       "    <tr>\n",
       "      <th>14</th>\n",
       "      <td>15</td>\n",
       "      <td>9.0</td>\n",
       "      <td>-9.0</td>\n",
       "      <td>NaN</td>\n",
       "    </tr>\n",
       "  </tbody>\n",
       "</table>\n",
       "</div>"
      ],
      "text/plain": [
       "    FECHA  MORA   PBI  Unnamed: 3\n",
       "0       1   3.2   1.0         NaN\n",
       "1       2   3.6   1.0         NaN\n",
       "2       3   3.7   1.0         NaN\n",
       "3       4   3.9   2.0         NaN\n",
       "4       5   2.7   3.0         NaN\n",
       "5       6   2.2   4.0         NaN\n",
       "6       7   2.4   3.0         NaN\n",
       "7       8   2.6   3.0         NaN\n",
       "8       9   3.0   3.5         NaN\n",
       "9      10   3.5   3.5         NaN\n",
       "10     11   6.0  -7.0         NaN\n",
       "11     12   7.0 -12.0         NaN\n",
       "12     13  12.0 -11.0         NaN\n",
       "13     14  10.0 -10.0         NaN\n",
       "14     15   9.0  -9.0         NaN"
      ]
     },
     "execution_count": 15,
     "metadata": {},
     "output_type": "execute_result"
    }
   ],
   "source": [
    "df_train"
   ]
  },
  {
   "cell_type": "markdown",
   "id": "91ea5d13-153e-4dfb-a38f-3be8aa73b2e7",
   "metadata": {},
   "source": [
    "## Modelo"
   ]
  },
  {
   "cell_type": "code",
   "execution_count": 16,
   "id": "a9d2e5e1-fa41-484a-b599-8437e0c306bc",
   "metadata": {},
   "outputs": [
    {
     "name": "stdout",
     "output_type": "stream",
     "text": [
      "Performing stepwise search to minimize aic\n",
      " ARIMA(1,0,1)(0,0,0)[0]             : AIC=inf, Time=0.18 sec\n",
      " ARIMA(0,0,0)(0,0,0)[0]             : AIC=90.074, Time=0.02 sec\n",
      " ARIMA(1,0,0)(0,0,0)[0]             : AIC=63.646, Time=0.03 sec\n",
      " ARIMA(0,0,1)(0,0,0)[0]             : AIC=inf, Time=0.08 sec\n",
      " ARIMA(2,0,0)(0,0,0)[0]             : AIC=64.785, Time=0.06 sec\n",
      " ARIMA(2,0,1)(0,0,0)[0]             : AIC=inf, Time=0.16 sec\n",
      " ARIMA(1,0,0)(0,0,0)[0] intercept   : AIC=55.397, Time=0.06 sec\n",
      " ARIMA(0,0,0)(0,0,0)[0] intercept   : AIC=53.406, Time=0.03 sec\n",
      " ARIMA(0,0,1)(0,0,0)[0] intercept   : AIC=inf, Time=0.15 sec\n",
      " ARIMA(1,0,1)(0,0,0)[0] intercept   : AIC=inf, Time=0.20 sec\n",
      "\n",
      "Best model:  ARIMA(0,0,0)(0,0,0)[0] intercept\n",
      "Total fit time: 0.964 seconds\n"
     ]
    },
    {
     "data": {
      "text/html": [
       "<table class=\"simpletable\">\n",
       "<caption>SARIMAX Results</caption>\n",
       "<tr>\n",
       "  <th>Dep. Variable:</th>           <td>y</td>        <th>  No. Observations:  </th>   <td>15</td>   \n",
       "</tr>\n",
       "<tr>\n",
       "  <th>Model:</th>                <td>SARIMAX</td>     <th>  Log Likelihood     </th> <td>-23.703</td>\n",
       "</tr>\n",
       "<tr>\n",
       "  <th>Date:</th>            <td>Thu, 03 Feb 2022</td> <th>  AIC                </th> <td>53.406</td> \n",
       "</tr>\n",
       "<tr>\n",
       "  <th>Time:</th>                <td>17:47:38</td>     <th>  BIC                </th> <td>55.531</td> \n",
       "</tr>\n",
       "<tr>\n",
       "  <th>Sample:</th>                  <td>0</td>        <th>  HQIC               </th> <td>53.384</td> \n",
       "</tr>\n",
       "<tr>\n",
       "  <th></th>                       <td> - 15</td>      <th>                     </th>    <td> </td>   \n",
       "</tr>\n",
       "<tr>\n",
       "  <th>Covariance Type:</th>        <td>opg</td>       <th>                     </th>    <td> </td>   \n",
       "</tr>\n",
       "</table>\n",
       "<table class=\"simpletable\">\n",
       "<tr>\n",
       "      <td></td>         <th>coef</th>     <th>std err</th>      <th>z</th>      <th>P>|z|</th>  <th>[0.025</th>    <th>0.975]</th>  \n",
       "</tr>\n",
       "<tr>\n",
       "  <th>intercept</th> <td>    4.2444</td> <td>    0.751</td> <td>    5.653</td> <td> 0.000</td> <td>    2.773</td> <td>    5.716</td>\n",
       "</tr>\n",
       "<tr>\n",
       "  <th>PBI</th>       <td>   -0.4639</td> <td>    0.072</td> <td>   -6.421</td> <td> 0.000</td> <td>   -0.605</td> <td>   -0.322</td>\n",
       "</tr>\n",
       "<tr>\n",
       "  <th>sigma2</th>    <td>    1.3806</td> <td>    0.407</td> <td>    3.396</td> <td> 0.001</td> <td>    0.584</td> <td>    2.177</td>\n",
       "</tr>\n",
       "</table>\n",
       "<table class=\"simpletable\">\n",
       "<tr>\n",
       "  <th>Ljung-Box (L1) (Q):</th>     <td>0.01</td>  <th>  Jarque-Bera (JB):  </th> <td>0.96</td> \n",
       "</tr>\n",
       "<tr>\n",
       "  <th>Prob(Q):</th>                <td>0.92</td>  <th>  Prob(JB):          </th> <td>0.62</td> \n",
       "</tr>\n",
       "<tr>\n",
       "  <th>Heteroskedasticity (H):</th> <td>25.34</td> <th>  Skew:              </th> <td>-0.19</td>\n",
       "</tr>\n",
       "<tr>\n",
       "  <th>Prob(H) (two-sided):</th>    <td>0.00</td>  <th>  Kurtosis:          </th> <td>4.18</td> \n",
       "</tr>\n",
       "</table><br/><br/>Warnings:<br/>[1] Covariance matrix calculated using the outer product of gradients (complex-step)."
      ],
      "text/plain": [
       "<class 'statsmodels.iolib.summary.Summary'>\n",
       "\"\"\"\n",
       "                               SARIMAX Results                                \n",
       "==============================================================================\n",
       "Dep. Variable:                      y   No. Observations:                   15\n",
       "Model:                        SARIMAX   Log Likelihood                 -23.703\n",
       "Date:                Thu, 03 Feb 2022   AIC                             53.406\n",
       "Time:                        17:47:38   BIC                             55.531\n",
       "Sample:                             0   HQIC                            53.384\n",
       "                                 - 15                                         \n",
       "Covariance Type:                  opg                                         \n",
       "==============================================================================\n",
       "                 coef    std err          z      P>|z|      [0.025      0.975]\n",
       "------------------------------------------------------------------------------\n",
       "intercept      4.2444      0.751      5.653      0.000       2.773       5.716\n",
       "PBI           -0.4639      0.072     -6.421      0.000      -0.605      -0.322\n",
       "sigma2         1.3806      0.407      3.396      0.001       0.584       2.177\n",
       "===================================================================================\n",
       "Ljung-Box (L1) (Q):                   0.01   Jarque-Bera (JB):                 0.96\n",
       "Prob(Q):                              0.92   Prob(JB):                         0.62\n",
       "Heteroskedasticity (H):              25.34   Skew:                            -0.19\n",
       "Prob(H) (two-sided):                  0.00   Kurtosis:                         4.18\n",
       "===================================================================================\n",
       "\n",
       "Warnings:\n",
       "[1] Covariance matrix calculated using the outer product of gradients (complex-step).\n",
       "\"\"\""
      ]
     },
     "execution_count": 16,
     "metadata": {},
     "output_type": "execute_result"
    }
   ],
   "source": [
    "sxmodel = pm.auto_arima(df_train[['MORA']], exogenous=df_train[['PBI']],\n",
    "                           start_p=1, start_q=1,\n",
    "                           test='adf',\n",
    "                           max_p=4, max_q=4,\n",
    "                           # , m=12, # Number of season\n",
    "                           start_P=0, seasonal=False,\n",
    "                           d=None, D=1, trace=True, #\n",
    "                           error_action='ignore',  \n",
    "                           suppress_warnings=True, \n",
    "                           stepwise=True)\n",
    "\n",
    "sxmodel.summary()"
   ]
  },
  {
   "cell_type": "markdown",
   "id": "9eb83ff5-a77c-43b6-84a7-96979ae70b0c",
   "metadata": {},
   "source": [
    "## Analisis"
   ]
  },
  {
   "cell_type": "code",
   "execution_count": 17,
   "id": "9482c3e0-420c-4e2f-acda-bd1a68689d6b",
   "metadata": {},
   "outputs": [
    {
     "data": {
      "image/png": "[encoded data removed]",
      "text/plain": [
       "<Figure size 504x360 with 4 Axes>"
      ]
     },
     "metadata": {
      "needs_background": "light"
     },
     "output_type": "display_data"
    }
   ],
   "source": [
    "sxmodel.plot_diagnostics(figsize=(7,5))\n",
    "plt.show()"
   ]
  },
  {
   "cell_type": "code",
   "execution_count": 31,
   "id": "db3d561a-7c44-4c52-bce2-2072c025063c",
   "metadata": {},
   "outputs": [],
   "source": [
    "def prueba_ljungbox(sxmodel):\n",
    "    p_value=sm.stats.acorr_ljungbox(sxmodel.resid(), lags=[5], return_df=True).iloc[0,1]\n",
    "    print('The pvalues is:',p_value)\n",
    "    if p_value > 0.05:\n",
    "        print('H0: The residuals are independently distributed.')\n",
    "    elif p_value <=0.05:\n",
    "        print('HA: The residuals are not independently distributed; they exhibit serial correlation.')\n",
    "    else:\n",
    "        print('Error')\n",
    "    "
   ]
  },
  {
   "cell_type": "code",
   "execution_count": 33,
   "id": "f7aec8ad-765d-4db5-a5dc-bf855d62dc01",
   "metadata": {},
   "outputs": [
    {
     "name": "stdout",
     "output_type": "stream",
     "text": [
      "The pvalues is: 0.4619468382519675\n",
      "H0: The residuals are independently distributed.\n"
     ]
    }
   ],
   "source": [
    "prueba_ljungbox(sxmodel)"
   ]
  },
  {
   "cell_type": "markdown",
   "id": "3fdbdfd4-5052-4042-8bad-eddf04517995",
   "metadata": {},
   "source": [
    "## Predicciones"
   ]
  },
  {
   "cell_type": "code",
   "execution_count": 36,
   "id": "5707a291-fa0c-4113-bb25-98b40946af57",
   "metadata": {},
   "outputs": [],
   "source": [
    "n_periods = len(df) #Pronosticamos para todo el periodo\n",
    "\n",
    "fitted, confint = sxmodel.predict(n_periods=n_periods, \n",
    "                                  exogenous= np.tile(df['PBI'].values,1).reshape(-1,1), #Importante el reshape\n",
    "                                  return_conf_int=True #Con intervalos de confinanza\n",
    "                                 )"
   ]
  },
  {
   "cell_type": "code",
   "execution_count": 19,
   "id": "f9b1261f-8dac-4455-bf50-ac10a750f16e",
   "metadata": {},
   "outputs": [
    {
     "data": {
      "image/png": "[encoded data removed]",
      "text/plain": [
       "<Figure size 432x288 with 1 Axes>"
      ]
     },
     "metadata": {
      "needs_background": "light"
     },
     "output_type": "display_data"
    }
   ],
   "source": [
    "\n",
    "fitted_series = pd.Series(fitted)\n",
    "lower_series = pd.Series(confint[:, 0])\n",
    "upper_series = pd.Series(confint[:, 1])\n",
    "\n",
    "start = min(df_test.index)\n",
    "\n",
    "fitted_series = fitted_series[fitted_series.index>start]\n",
    "lower_series = lower_series[lower_series.index>start]\n",
    "upper_series = upper_series[upper_series.index>start]\n",
    "\n",
    "# Plot\n",
    "plt.plot(df['MORA'].dropna(), label='MORA')\n",
    "plt.plot(fitted_series, color='darkgreen', label='MORA pronostico')\n",
    "plt.fill_between(lower_series.index, \n",
    "                 lower_series, \n",
    "                 upper_series, \n",
    "                 color='k', alpha=.15)\n",
    "\n",
    "plt.title(\"SARIMAX Forecast of Mora\")\n",
    "plt.legend()\n",
    "plt.show()"
   ]
  },
  {
   "cell_type": "markdown",
   "id": "f6d1179f-c1af-4427-b3c2-6bf90e2ca089",
   "metadata": {},
   "source": [
    "## Metricas"
   ]
  },
  {
   "cell_type": "code",
   "execution_count": 63,
   "id": "daf6acf7-0e5a-4ccf-96b3-2b61bc029008",
   "metadata": {},
   "outputs": [],
   "source": [
    "# Accuracy metrics\n",
    "def forecast_accuracy(forecast, actual):\n",
    "    mape = np.mean(np.abs(forecast - actual)/np.abs(actual))  # MAPE\n",
    "    me = np.mean(forecast - actual)             # ME\n",
    "    mae = np.mean(np.abs(forecast - actual))    # MAE\n",
    "    mpe = np.mean((forecast - actual)/actual)   # MPE\n",
    "    rmse = np.mean((forecast - actual)**2)**.5  # RMSE\n",
    "    corr = np.corrcoef(forecast, actual)[0,1]   # corr\n",
    "    mins = np.amin(np.hstack([forecast[:,None], \n",
    "                              actual[:,None]]), axis=1)\n",
    "    maxs = np.amax(np.hstack([forecast[:,None], \n",
    "                              actual[:,None]]), axis=1)\n",
    "    minmax = 1 - np.mean(mins/maxs)             # minmax\n",
    "    print('the model is about', 1-mape , 'accurate')\n",
    "    #acf1 = acf(fc-test)[1]                      # ACF1\n",
    "    return({'mape':mape, 'me':me, 'mae': mae, \n",
    "            'mpe': mpe, 'rmse':rmse, \n",
    "            #'acf1':acf1, \n",
    "            'corr':corr, 'minmax':minmax})\n",
    "\n"
   ]
  },
  {
   "cell_type": "code",
   "execution_count": 64,
   "id": "ef7255f3-30ec-470b-afa4-34e9899e7d93",
   "metadata": {},
   "outputs": [],
   "source": [
    "actual=df[df['MORA'].index>start]['MORA'].dropna()"
   ]
  },
  {
   "cell_type": "code",
   "execution_count": 65,
   "id": "e4559cd3-e082-4235-b9e0-1a779e5bda91",
   "metadata": {},
   "outputs": [
    {
     "data": {
      "text/plain": [
       "Int64Index([16, 17, 18, 19, 20, 21], dtype='int64')"
      ]
     },
     "execution_count": 65,
     "metadata": {},
     "output_type": "execute_result"
    }
   ],
   "source": [
    "actual.index"
   ]
  },
  {
   "cell_type": "code",
   "execution_count": 66,
   "id": "49e123af-a932-4375-a678-0b20f8e9d492",
   "metadata": {},
   "outputs": [],
   "source": [
    "predicciones_metricas = pd.DataFrame(actual).join(pd.DataFrame(fitted_series),how='left')\n",
    "predicciones_metricas.columns=['MORA','MORA_pred']"
   ]
  },
  {
   "cell_type": "code",
   "execution_count": 67,
   "id": "72eda146-0c26-4024-93c6-22d33fea1bab",
   "metadata": {},
   "outputs": [
    {
     "name": "stdout",
     "output_type": "stream",
     "text": [
      "the model is about 0.39588136260514506 accurate\n"
     ]
    },
    {
     "name": "stderr",
     "output_type": "stream",
     "text": [
      "C:\\Users\\Jair\\anaconda3\\envs\\jair\\lib\\site-packages\\ipykernel_launcher.py:9: FutureWarning: Support for multi-dimensional indexing (e.g. `obj[:, None]`) is deprecated and will be removed in a future version.  Convert to a numpy array before indexing instead.\n",
      "  if __name__ == '__main__':\n",
      "C:\\Users\\Jair\\anaconda3\\envs\\jair\\lib\\site-packages\\ipykernel_launcher.py:10: FutureWarning: Support for multi-dimensional indexing (e.g. `obj[:, None]`) is deprecated and will be removed in a future version.  Convert to a numpy array before indexing instead.\n",
      "  # Remove the CWD from sys.path while we load stuff.\n",
      "C:\\Users\\Jair\\anaconda3\\envs\\jair\\lib\\site-packages\\ipykernel_launcher.py:11: FutureWarning: Support for multi-dimensional indexing (e.g. `obj[:, None]`) is deprecated and will be removed in a future version.  Convert to a numpy array before indexing instead.\n",
      "  # This is added back by InteractiveShellApp.init_path()\n",
      "C:\\Users\\Jair\\anaconda3\\envs\\jair\\lib\\site-packages\\ipykernel_launcher.py:12: FutureWarning: Support for multi-dimensional indexing (e.g. `obj[:, None]`) is deprecated and will be removed in a future version.  Convert to a numpy array before indexing instead.\n",
      "  if sys.path[0] == '':\n"
     ]
    },
    {
     "data": {
      "text/plain": [
       "{'mape': 0.6041186373948549,\n",
       " 'me': 0.6860930892515767,\n",
       " 'mae': 0.7351731706121623,\n",
       " 'mpe': 0.5877586102746598,\n",
       " 'rmse': 0.9664746689501814,\n",
       " 'corr': 0.7808688094430303,\n",
       " 'minmax': 0.2773642635078092}"
      ]
     },
     "execution_count": 67,
     "metadata": {},
     "output_type": "execute_result"
    }
   ],
   "source": [
    "forecast_accuracy(predicciones_metricas.MORA_pred, predicciones_metricas.MORA)"
   ]
  },
  {
   "cell_type": "code",
   "execution_count": null,
   "id": "a3aec2f6-c34e-4f0a-bbb1-ccf3fca64d08",
   "metadata": {},
   "outputs": [],
   "source": []
  }
 ],
 "metadata": {
  "kernelspec": {
   "display_name": "Python 3",
   "language": "python",
   "name": "python3"
  },
  "language_info": {
   "codemirror_mode": {
    "name": "ipython",
    "version": 3
   },
   "file_extension": ".py",
   "mimetype": "text/x-python",
   "name": "python",
   "nbconvert_exporter": "python",
   "pygments_lexer": "ipython3",
   "version": "3.6.13"
  },
  "toc-autonumbering": true
 },
 "nbformat": 4,
 "nbformat_minor": 5
}
