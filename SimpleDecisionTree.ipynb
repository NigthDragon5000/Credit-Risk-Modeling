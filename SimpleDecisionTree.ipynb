{
 "cells": [
  {
   "cell_type": "code",
   "execution_count": 4,
   "metadata": {},
   "outputs": [
    {
     "name": "stdout",
     "output_type": "stream",
     "text": [
      "['sepal length (cm)', 'sepal width (cm)', 'petal length (cm)', 'petal width (cm)']\n",
      "|--- petal width (cm) <= 0.80\n",
      "|   |--- weights: [50.00, 0.00, 0.00] class: 0\n",
      "|--- petal width (cm) >  0.80\n",
      "|   |--- petal width (cm) <= 1.75\n",
      "|   |   |--- weights: [0.00, 49.00, 5.00] class: 1\n",
      "|   |--- petal width (cm) >  1.75\n",
      "|   |   |--- weights: [0.00, 1.00, 45.00] class: 2\n",
      "\n",
      "150\n"
     ]
    }
   ],
   "source": [
    "from sklearn.datasets import load_iris\n",
    "from sklearn.tree import DecisionTreeClassifier\n",
    "from sklearn.tree.export import export_text\n",
    "iris = load_iris()\n",
    "X = iris['data']\n",
    "y = iris['target']\n",
    "decision_tree = DecisionTreeClassifier(random_state=0, max_depth=2)\n",
    "decision_tree = decision_tree.fit(X, y)\n",
    "r = export_text(decision_tree, feature_names=iris['feature_names'],show_weights=True)\n",
    "print(iris['feature_names'])\n",
    "print(r)\n",
    "print(len(X))\n"
   ]
  },
  {
   "cell_type": "code",
   "execution_count": 2,
   "metadata": {},
   "outputs": [
    {
     "name": "stdout",
     "output_type": "stream",
     "text": [
      "Help on function export_text in module sklearn.tree.export:\n",
      "\n",
      "export_text(decision_tree, feature_names=None, max_depth=10, spacing=3, decimals=2, show_weights=False)\n",
      "    Build a text report showing the rules of a decision tree.\n",
      "    \n",
      "    Note that backwards compatibility may not be supported.\n",
      "    \n",
      "    Parameters\n",
      "    ----------\n",
      "    decision_tree : object\n",
      "        The decision tree estimator to be exported.\n",
      "        It can be an instance of\n",
      "        DecisionTreeClassifier or DecisionTreeRegressor.\n",
      "    \n",
      "    feature_names : list, optional (default=None)\n",
      "        A list of length n_features containing the feature names.\n",
      "        If None generic names will be used (\"feature_0\", \"feature_1\", ...).\n",
      "    \n",
      "    max_depth : int, optional (default=10)\n",
      "        Only the first max_depth levels of the tree are exported.\n",
      "        Truncated branches will be marked with \"...\".\n",
      "    \n",
      "    spacing : int, optional (default=3)\n",
      "        Number of spaces between edges. The higher it is, the wider the result.\n",
      "    \n",
      "    decimals : int, optional (default=2)\n",
      "        Number of decimal digits to display.\n",
      "    \n",
      "    show_weights : bool, optional (default=False)\n",
      "        If true the classification weights will be exported on each leaf.\n",
      "        The classification weights are the number of samples each class.\n",
      "    \n",
      "    Returns\n",
      "    -------\n",
      "    report : string\n",
      "        Text summary of all the rules in the decision tree.\n",
      "    \n",
      "    Examples\n",
      "    --------\n",
      "    \n",
      "    >>> from sklearn.datasets import load_iris\n",
      "    >>> from sklearn.tree import DecisionTreeClassifier\n",
      "    >>> from sklearn.tree.export import export_text\n",
      "    >>> iris = load_iris()\n",
      "    >>> X = iris['data']\n",
      "    >>> y = iris['target']\n",
      "    >>> decision_tree = DecisionTreeClassifier(random_state=0, max_depth=2)\n",
      "    >>> decision_tree = decision_tree.fit(X, y)\n",
      "    >>> r = export_text(decision_tree, feature_names=iris['feature_names'])\n",
      "    >>> print(r)\n",
      "    |--- petal width (cm) <= 0.80\n",
      "    |   |--- class: 0\n",
      "    |--- petal width (cm) >  0.80\n",
      "    |   |--- petal width (cm) <= 1.75\n",
      "    |   |   |--- class: 1\n",
      "    |   |--- petal width (cm) >  1.75\n",
      "    |   |   |--- class: 2\n",
      "    ...\n",
      "\n"
     ]
    }
   ],
   "source": [
    "help(export_text)"
   ]
  },
  {
   "cell_type": "code",
   "execution_count": null,
   "metadata": {},
   "outputs": [],
   "source": []
  }
 ],
 "metadata": {
  "kernelspec": {
   "display_name": "Python 3",
   "language": "python",
   "name": "python3"
  },
  "language_info": {
   "codemirror_mode": {
    "name": "ipython",
    "version": 3
   },
   "file_extension": ".py",
   "mimetype": "text/x-python",
   "name": "python",
   "nbconvert_exporter": "python",
   "pygments_lexer": "ipython3",
   "version": "3.6.5"
  }
 },
 "nbformat": 4,
 "nbformat_minor": 2
}
